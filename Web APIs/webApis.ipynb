{
 "cells": [
  {
   "cell_type": "markdown",
   "metadata": {},
   "source": [
    "### Web APIs\n",
    "- Application Programming Interface - Routines running over a web server\n",
    "- Connects application and Database\n",
    "\n",
    "#### Process\n",
    "- Specify Data and URL\n",
    "- Retrieve and Parse Data\n",
    "- Can be received in JSON / XML / Plain Text"
   ]
  },
  {
   "cell_type": "markdown",
   "metadata": {},
   "source": [
    "### Types of Requests\n",
    "- GET\n",
    "- POST\n",
    "- PUT\n",
    "- PATCH\n",
    "- DELETE"
   ]
  },
  {
   "cell_type": "markdown",
   "metadata": {},
   "source": [
    "### Libraries Used:\n",
    "- urllib\n",
    "- requests"
   ]
  },
  {
   "cell_type": "code",
   "execution_count": 1,
   "metadata": {},
   "outputs": [],
   "source": [
    "from urllib.request import urlopen"
   ]
  },
  {
   "cell_type": "code",
   "execution_count": 12,
   "metadata": {},
   "outputs": [],
   "source": [
    "API_KEY = \"b29959e5c0d38621b62b94becb8cc78d\" #For open weather map"
   ]
  },
  {
   "cell_type": "code",
   "execution_count": 13,
   "metadata": {},
   "outputs": [],
   "source": [
    "apiUrl = f\"https://api.openweathermap.org/data/2.5/weather?lat=35&lon=139&appid={API_KEY}\""
   ]
  },
  {
   "cell_type": "code",
   "execution_count": 14,
   "metadata": {},
   "outputs": [
    {
     "name": "stdout",
     "output_type": "stream",
     "text": [
      "b'{\"coord\":{\"lon\":139,\"lat\":35},\"weather\":[{\"id\":801,\"main\":\"Clouds\",\"description\":\"few clouds\",\"icon\":\"02n\"}],\"base\":\"stations\",\"main\":{\"temp\":274.99,\"feels_like\":274.99,\"temp_min\":274.99,\"temp_max\":274.99,\"pressure\":1015,\"humidity\":75},\"visibility\":10000,\"wind\":{\"speed\":0.45,\"deg\":237,\"gust\":1.34},\"clouds\":{\"all\":11},\"dt\":1643830958,\"sys\":{\"type\":2,\"id\":2019346,\"country\":\"JP\",\"sunrise\":1643838105,\"sunset\":1643876023},\"timezone\":32400,\"id\":1851632,\"name\":\"Shuzenji\",\"cod\":200}'\n"
     ]
    }
   ],
   "source": [
    "response = urlopen(apiUrl)\n",
    "data = response.read()\n",
    "print(data)"
   ]
  },
  {
   "cell_type": "markdown",
   "metadata": {},
   "source": [
    "We get this kind of data from the api, we parse it for our readability"
   ]
  },
  {
   "cell_type": "code",
   "execution_count": 15,
   "metadata": {},
   "outputs": [],
   "source": [
    "import json \n",
    "#This library helps us read the json data"
   ]
  },
  {
   "cell_type": "code",
   "execution_count": 18,
   "metadata": {},
   "outputs": [
    {
     "data": {
      "text/plain": [
       "{'coord': {'lon': 139, 'lat': 35},\n",
       " 'weather': [{'id': 801,\n",
       "   'main': 'Clouds',\n",
       "   'description': 'few clouds',\n",
       "   'icon': '02n'}],\n",
       " 'base': 'stations',\n",
       " 'main': {'temp': 274.99,\n",
       "  'feels_like': 274.99,\n",
       "  'temp_min': 274.99,\n",
       "  'temp_max': 274.99,\n",
       "  'pressure': 1015,\n",
       "  'humidity': 75},\n",
       " 'visibility': 10000,\n",
       " 'wind': {'speed': 0.45, 'deg': 237, 'gust': 1.34},\n",
       " 'clouds': {'all': 11},\n",
       " 'dt': 1643830958,\n",
       " 'sys': {'type': 2,\n",
       "  'id': 2019346,\n",
       "  'country': 'JP',\n",
       "  'sunrise': 1643838105,\n",
       "  'sunset': 1643876023},\n",
       " 'timezone': 32400,\n",
       " 'id': 1851632,\n",
       " 'name': 'Shuzenji',\n",
       " 'cod': 200}"
      ]
     },
     "execution_count": 18,
     "metadata": {},
     "output_type": "execute_result"
    }
   ],
   "source": [
    "jsonParsedData = json.loads(data)\n",
    "jsonParsedData"
   ]
  },
  {
   "cell_type": "markdown",
   "metadata": {},
   "source": [
    "This is in much more readable format, these formats are called JavaScript Object Notation (JSON)\n",
    "\n",
    "> Also the value can be called just like a normal python dict"
   ]
  },
  {
   "cell_type": "code",
   "execution_count": 19,
   "metadata": {},
   "outputs": [
    {
     "data": {
      "text/plain": [
       "{'lon': 139, 'lat': 35}"
      ]
     },
     "execution_count": 19,
     "metadata": {},
     "output_type": "execute_result"
    }
   ],
   "source": [
    "jsonParsedData[\"coord\"]"
   ]
  },
  {
   "cell_type": "code",
   "execution_count": 20,
   "metadata": {},
   "outputs": [
    {
     "data": {
      "text/plain": [
       "'Shuzenji'"
      ]
     },
     "execution_count": 20,
     "metadata": {},
     "output_type": "execute_result"
    }
   ],
   "source": [
    "jsonParsedData[\"name\"]"
   ]
  },
  {
   "cell_type": "code",
   "execution_count": 22,
   "metadata": {},
   "outputs": [
    {
     "name": "stdout",
     "output_type": "stream",
     "text": [
      "{\n",
      "    \"coord\": {\n",
      "        \"lon\": 139,\n",
      "        \"lat\": 35\n",
      "    },\n",
      "    \"weather\": [\n",
      "        {\n",
      "            \"id\": 801,\n",
      "            \"main\": \"Clouds\",\n",
      "            \"description\": \"few clouds\",\n",
      "            \"icon\": \"02n\"\n",
      "        }\n",
      "    ],\n",
      "    \"base\": \"stations\",\n",
      "    \"main\": {\n",
      "        \"temp\": 274.99,\n",
      "        \"feels_like\": 274.99,\n",
      "        \"temp_min\": 274.99,\n",
      "        \"temp_max\": 274.99,\n",
      "        \"pressure\": 1015,\n",
      "        \"humidity\": 75\n",
      "    },\n",
      "    \"visibility\": 10000,\n",
      "    \"wind\": {\n",
      "        \"speed\": 0.45,\n",
      "        \"deg\": 237,\n",
      "        \"gust\": 1.34\n",
      "    },\n",
      "    \"clouds\": {\n",
      "        \"all\": 11\n",
      "    },\n",
      "    \"dt\": 1643830958,\n",
      "    \"sys\": {\n",
      "        \"type\": 2,\n",
      "        \"id\": 2019346,\n",
      "        \"country\": \"JP\",\n",
      "        \"sunrise\": 1643838105,\n",
      "        \"sunset\": 1643876023\n",
      "    },\n",
      "    \"timezone\": 32400,\n",
      "    \"id\": 1851632,\n",
      "    \"name\": \"Shuzenji\",\n",
      "    \"cod\": 200\n",
      "}\n"
     ]
    }
   ],
   "source": [
    "#For a well formated string\n",
    "jsonString = json.dumps(jsonParsedData, indent=4)\n",
    "print(jsonString)"
   ]
  }
 ],
 "metadata": {
  "interpreter": {
   "hash": "aee8b7b246df8f9039afb4144a1f6fd8d2ca17a180786b69acc140d282b71a49"
  },
  "kernelspec": {
   "display_name": "Python 3.10.2 64-bit",
   "language": "python",
   "name": "python3"
  },
  "language_info": {
   "codemirror_mode": {
    "name": "ipython",
    "version": 3
   },
   "file_extension": ".py",
   "mimetype": "text/x-python",
   "name": "python",
   "nbconvert_exporter": "python",
   "pygments_lexer": "ipython3",
   "version": "3.10.2"
  },
  "orig_nbformat": 4
 },
 "nbformat": 4,
 "nbformat_minor": 2
}
