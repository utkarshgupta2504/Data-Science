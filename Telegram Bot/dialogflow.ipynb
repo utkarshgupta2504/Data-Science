{
 "cells": [
  {
   "cell_type": "code",
   "execution_count": 1,
   "metadata": {},
   "outputs": [],
   "source": [
    "#Sending the credentials to env\n",
    "import os\n",
    "os.environ[\"GOOGLE_APPLICATION_CREDENTIALS\"] = \"client.json\"\n",
    "\n",
    "#Import dotenv for creds\n",
    "import dotenv\n",
    "dotenv.load_dotenv()\n",
    "\n",
    "#import dialogflow\n",
    "import google.cloud.dialogflow_v2 as dialogflow\n",
    "dialogflow_session_client = dialogflow.SessionsClient()\n",
    "PROJECT_ID = os.environ[\"PROJECT_ID\"]"
   ]
  },
  {
   "cell_type": "code",
   "execution_count": 6,
   "metadata": {},
   "outputs": [],
   "source": [
    "def detect_intent_from_text(text, session_id = 12345, language_code=\"en\"):\n",
    "    session = dialogflow_session_client.session_path(PROJECT_ID, session_id)\n",
    "    text_input = dialogflow.types.TextInput(text=text, language_code=language_code)\n",
    "    query_input = dialogflow.types.QueryInput(text=text_input)\n",
    "    response = dialogflow_session_client.detect_intent(session=session, query_input=query_input)\n",
    "    return response.query_result"
   ]
  },
  {
   "cell_type": "code",
   "execution_count": 7,
   "metadata": {},
   "outputs": [
    {
     "data": {
      "text/plain": [
       "query_text: \"Hello!\"\n",
       "action: \"input.welcome\"\n",
       "parameters {\n",
       "}\n",
       "all_required_params_present: true\n",
       "fulfillment_text: \"Greetings! How can I assist?\"\n",
       "fulfillment_messages {\n",
       "  text {\n",
       "    text: \"Greetings! How can I assist?\"\n",
       "  }\n",
       "}\n",
       "intent {\n",
       "  name: \"projects/news-bot-clgg/agent/intents/ad1336b1-3bc7-413f-8db1-4a90c9ba84fc\"\n",
       "  display_name: \"Default Welcome Intent\"\n",
       "}\n",
       "intent_detection_confidence: 1.0\n",
       "language_code: \"en\""
      ]
     },
     "execution_count": 7,
     "metadata": {},
     "output_type": "execute_result"
    }
   ],
   "source": [
    "detect_intent_from_text(\"Hello!\", 12345)"
   ]
  },
  {
   "cell_type": "markdown",
   "metadata": {},
   "source": [
    "The default intent is trigggering, lets try our intents"
   ]
  },
  {
   "cell_type": "code",
   "execution_count": 8,
   "metadata": {},
   "outputs": [
    {
     "data": {
      "text/plain": [
       "query_text: \"Get me sports news from India in Hindi\"\n",
       "parameters {\n",
       "  fields {\n",
       "    key: \"geo-country\"\n",
       "    value {\n",
       "      string_value: \"India\"\n",
       "    }\n",
       "  }\n",
       "  fields {\n",
       "    key: \"language\"\n",
       "    value {\n",
       "      string_value: \"Hindi\"\n",
       "    }\n",
       "  }\n",
       "  fields {\n",
       "    key: \"topic\"\n",
       "    value {\n",
       "      string_value: \"Sports\"\n",
       "    }\n",
       "  }\n",
       "}\n",
       "all_required_params_present: true\n",
       "fulfillment_messages {\n",
       "  text {\n",
       "    text: \"\"\n",
       "  }\n",
       "}\n",
       "intent {\n",
       "  name: \"projects/news-bot-clgg/agent/intents/f69089ee-7026-4464-b0c7-76ff6e71889c\"\n",
       "  display_name: \"get_news\"\n",
       "}\n",
       "intent_detection_confidence: 0.646129\n",
       "language_code: \"en\""
      ]
     },
     "execution_count": 8,
     "metadata": {},
     "output_type": "execute_result"
    }
   ],
   "source": [
    "detect_intent_from_text(\"Get me sports news from India in Hindi\", 12345)"
   ]
  },
  {
   "cell_type": "code",
   "execution_count": 9,
   "metadata": {},
   "outputs": [],
   "source": [
    "customResponse = detect_intent_from_text(\"Get me sports news from India in Hindi\", 12345)"
   ]
  },
  {
   "cell_type": "code",
   "execution_count": 13,
   "metadata": {},
   "outputs": [
    {
     "data": {
      "text/plain": [
       "{'topic': 'Sports', 'geo-country': 'India', 'language': 'Hindi'}"
      ]
     },
     "execution_count": 13,
     "metadata": {},
     "output_type": "execute_result"
    }
   ],
   "source": [
    "dict(customResponse.parameters)"
   ]
  },
  {
   "cell_type": "code",
   "execution_count": 18,
   "metadata": {},
   "outputs": [
    {
     "data": {
      "text/plain": [
       "'get_news'"
      ]
     },
     "execution_count": 18,
     "metadata": {},
     "output_type": "execute_result"
    }
   ],
   "source": [
    "customResponse.intent.display_name"
   ]
  },
  {
   "cell_type": "markdown",
   "metadata": {},
   "source": [
    "We are getting what we wanted"
   ]
  },
  {
   "cell_type": "markdown",
   "metadata": {},
   "source": []
  }
 ],
 "metadata": {
  "interpreter": {
   "hash": "aee8b7b246df8f9039afb4144a1f6fd8d2ca17a180786b69acc140d282b71a49"
  },
  "kernelspec": {
   "display_name": "Python 3.10.2 64-bit",
   "language": "python",
   "name": "python3"
  },
  "language_info": {
   "codemirror_mode": {
    "name": "ipython",
    "version": 3
   },
   "file_extension": ".py",
   "mimetype": "text/x-python",
   "name": "python",
   "nbconvert_exporter": "python",
   "pygments_lexer": "ipython3",
   "version": "3.10.2"
  },
  "orig_nbformat": 4
 },
 "nbformat": 4,
 "nbformat_minor": 2
}
