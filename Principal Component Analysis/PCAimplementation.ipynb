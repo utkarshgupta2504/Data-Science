{
 "cells": [
  {
   "cell_type": "markdown",
   "metadata": {},
   "source": [
    "### Algorithm\n",
    "- Suppose we have a (1000,2) size data\n",
    "1. #### Preprocessing\n",
    "    - Find a vector, for projecting the data points on it"
   ]
  },
  {
   "cell_type": "markdown",
   "metadata": {},
   "source": [
    "2. #### Covariance matrix\n",
    "    - For 2 features, we get a 2 x 2 matrix\n",
    "$$Cov(x,y) = \\sum\\limits_{i=1}^m\\dfrac{(x - \\bar{x})(y - \\bar{y})}{N-1}$$\n",
    "Hence are matrix looks like,\n",
    "$$ \\begin{bmatrix} Cov(x_1, x_1) & Cov(x_1, x_2) \\\\\n",
    "Cov(x_2, x_1) & Cov(x_2, x_2) \\end{bmatrix} $$\n",
    "Which turns out to be a symmetric matrix\n",
    "  "
   ]
  },
  {
   "cell_type": "markdown",
   "metadata": {},
   "source": [
    "3. #### Eigen vector calculation\n",
    "    - Find the eigen vector the get the direction of the vector for projecting\n",
    "    - We use a function called `SVD` (Singular Value Decompositions)\n",
    "    - SVD gives us U, S, V\n",
    "    - We only use U\n",
    "    - U is a $n \\times n$ matrix, and we choose the best k\n",
    "    - `U = U[:, :k]` $(n \\times k)$"
   ]
  },
  {
   "cell_type": "markdown",
   "metadata": {},
   "source": [
    "4. #### Projection\n",
    "    - $Z^{(i)} = U_{red}^T \\times x^{(i)} $\n",
    "    - To get Z of $(k \\times 1)$ shape"
   ]
  },
  {
   "cell_type": "markdown",
   "metadata": {},
   "source": []
  }
 ],
 "metadata": {
  "language_info": {
   "name": "python"
  },
  "orig_nbformat": 4
 },
 "nbformat": 4,
 "nbformat_minor": 2
}
