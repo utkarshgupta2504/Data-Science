{
 "cells": [
  {
   "cell_type": "markdown",
   "id": "ed71ac3e",
   "metadata": {
    "papermill": {
     "duration": 0.017929,
     "end_time": "2022-05-01T16:24:07.184212",
     "exception": false,
     "start_time": "2022-05-01T16:24:07.166283",
     "status": "completed"
    },
    "tags": []
   },
   "source": [
    "### Algorithm\n",
    "- Suppose we have a (1000,2) size data\n",
    "1. #### Preprocessing\n",
    "    - Find a vector, for projecting the data points on it"
   ]
  },
  {
   "cell_type": "markdown",
   "id": "c812eda5",
   "metadata": {
    "papermill": {
     "duration": 0.016466,
     "end_time": "2022-05-01T16:24:07.217703",
     "exception": false,
     "start_time": "2022-05-01T16:24:07.201237",
     "status": "completed"
    },
    "tags": []
   },
   "source": [
    "2. #### Covariance matrix\n",
    "    - For 2 features, we get a 2 x 2 matrix\n",
    "$$Cov(x,y) = \\sum\\limits_{i=1}^m\\dfrac{(x - \\bar{x})(y - \\bar{y})}{N-1}$$\n",
    "Hence are matrix looks like,\n",
    "$$ \\begin{bmatrix} Cov(x_1, x_1) & Cov(x_1, x_2) \\\\\n",
    "Cov(x_2, x_1) & Cov(x_2, x_2) \\end{bmatrix} $$\n",
    "Which turns out to be a symmetric matrix\n",
    "  "
   ]
  },
  {
   "cell_type": "markdown",
   "id": "cd170c7e",
   "metadata": {
    "papermill": {
     "duration": 0.016423,
     "end_time": "2022-05-01T16:24:07.250948",
     "exception": false,
     "start_time": "2022-05-01T16:24:07.234525",
     "status": "completed"
    },
    "tags": []
   },
   "source": [
    "3. #### Eigen vector calculation\n",
    "    - Find the eigen vector the get the direction of the vector for projecting\n",
    "    - We use a function called `SVD` (Singular Value Decompositions)\n",
    "    - SVD gives us U, S, V\n",
    "    - We only use U\n",
    "    - U is a $n \\times n$ matrix, and we choose the best k\n",
    "    - `U = U[:, :k]` $(n \\times k)$"
   ]
  },
  {
   "cell_type": "markdown",
   "id": "a227616d",
   "metadata": {
    "papermill": {
     "duration": 0.01634,
     "end_time": "2022-05-01T16:24:07.283942",
     "exception": false,
     "start_time": "2022-05-01T16:24:07.267602",
     "status": "completed"
    },
    "tags": []
   },
   "source": [
    "4. #### Projection\n",
    "    - $Z^{(i)} = U_{red}^T \\times x^{(i)} $\n",
    "    - To get Z of $(k \\times 1)$ shape"
   ]
  },
  {
   "cell_type": "markdown",
   "id": "062000b1",
   "metadata": {
    "papermill": {
     "duration": 0.016388,
     "end_time": "2022-05-01T16:24:07.317035",
     "exception": false,
     "start_time": "2022-05-01T16:24:07.300647",
     "status": "completed"
    },
    "tags": []
   },
   "source": [
    "### Implementation"
   ]
  },
  {
   "cell_type": "code",
   "execution_count": 1,
   "id": "2f6b83ee",
   "metadata": {
    "execution": {
     "iopub.execute_input": "2022-05-01T16:24:07.352599Z",
     "iopub.status.busy": "2022-05-01T16:24:07.351819Z",
     "iopub.status.idle": "2022-05-01T16:24:13.801907Z",
     "shell.execute_reply": "2022-05-01T16:24:13.800900Z"
    },
    "papermill": {
     "duration": 6.470811,
     "end_time": "2022-05-01T16:24:13.804568",
     "exception": false,
     "start_time": "2022-05-01T16:24:07.333757",
     "status": "completed"
    },
    "tags": []
   },
   "outputs": [],
   "source": [
    "# Importing MNIST again, from Keras this time\n",
    "from keras.datasets import mnist\n",
    "\n",
    "import numpy as np\n",
    "import matplotlib.pyplot as plt\n",
    "\n",
    "plt.style.use(\"dark_background\")"
   ]
  },
  {
   "cell_type": "code",
   "execution_count": 2,
   "id": "a575bc99",
   "metadata": {
    "execution": {
     "iopub.execute_input": "2022-05-01T16:24:13.841026Z",
     "iopub.status.busy": "2022-05-01T16:24:13.840275Z",
     "iopub.status.idle": "2022-05-01T16:24:14.811954Z",
     "shell.execute_reply": "2022-05-01T16:24:14.811081Z"
    },
    "papermill": {
     "duration": 0.99225,
     "end_time": "2022-05-01T16:24:14.814209",
     "exception": false,
     "start_time": "2022-05-01T16:24:13.821959",
     "status": "completed"
    },
    "tags": []
   },
   "outputs": [
    {
     "name": "stdout",
     "output_type": "stream",
     "text": [
      "Downloading data from https://storage.googleapis.com/tensorflow/tf-keras-datasets/mnist.npz\n",
      "11493376/11490434 [==============================] - 0s 0us/step\n",
      "11501568/11490434 [==============================] - 0s 0us/step\n"
     ]
    },
    {
     "data": {
      "text/plain": [
       "((60000, 28, 28), (10000,))"
      ]
     },
     "execution_count": 2,
     "metadata": {},
     "output_type": "execute_result"
    }
   ],
   "source": [
    "(x_train, y_train), (x_test, y_test) = mnist.load_data()\n",
    "x_train.shape, y_test.shape"
   ]
  },
  {
   "cell_type": "markdown",
   "id": "805c75c8",
   "metadata": {
    "papermill": {
     "duration": 0.018756,
     "end_time": "2022-05-01T16:24:14.852416",
     "exception": false,
     "start_time": "2022-05-01T16:24:14.833660",
     "status": "completed"
    },
    "tags": []
   },
   "source": [
    "#### Visualising one row"
   ]
  },
  {
   "cell_type": "code",
   "execution_count": 3,
   "id": "7db55d37",
   "metadata": {
    "execution": {
     "iopub.execute_input": "2022-05-01T16:24:14.892761Z",
     "iopub.status.busy": "2022-05-01T16:24:14.892472Z",
     "iopub.status.idle": "2022-05-01T16:24:15.106896Z",
     "shell.execute_reply": "2022-05-01T16:24:15.106023Z"
    },
    "papermill": {
     "duration": 0.237327,
     "end_time": "2022-05-01T16:24:15.108984",
     "exception": false,
     "start_time": "2022-05-01T16:24:14.871657",
     "status": "completed"
    },
    "tags": []
   },
   "outputs": [
    {
     "data": {
      "image/png": "[encoded data removed]",
      "text/plain": [
       "<Figure size 432x288 with 1 Axes>"
      ]
     },
     "metadata": {},
     "output_type": "display_data"
    }
   ],
   "source": [
    "plt.imshow(x_train[2], cmap=\"gray\")\n",
    "plt.show()"
   ]
  },
  {
   "cell_type": "markdown",
   "id": "76676bcf",
   "metadata": {
    "papermill": {
     "duration": 0.019434,
     "end_time": "2022-05-01T16:24:15.148440",
     "exception": false,
     "start_time": "2022-05-01T16:24:15.129006",
     "status": "completed"
    },
    "tags": []
   },
   "source": [
    "We see all the data are images of $(28 \\times 28)$ and show a number to be classified"
   ]
  },
  {
   "cell_type": "code",
   "execution_count": 4,
   "id": "8ea5e09c",
   "metadata": {
    "execution": {
     "iopub.execute_input": "2022-05-01T16:24:15.190912Z",
     "iopub.status.busy": "2022-05-01T16:24:15.190405Z",
     "iopub.status.idle": "2022-05-01T16:24:15.195490Z",
     "shell.execute_reply": "2022-05-01T16:24:15.194912Z"
    },
    "papermill": {
     "duration": 0.028588,
     "end_time": "2022-05-01T16:24:15.197813",
     "exception": false,
     "start_time": "2022-05-01T16:24:15.169225",
     "status": "completed"
    },
    "tags": []
   },
   "outputs": [
    {
     "data": {
      "text/plain": [
       "(60000, 784)"
      ]
     },
     "execution_count": 4,
     "metadata": {},
     "output_type": "execute_result"
    }
   ],
   "source": [
    "X_ = x_train.reshape(-1, 28*28)\n",
    "X_.shape"
   ]
  },
  {
   "cell_type": "markdown",
   "id": "c19a5191",
   "metadata": {
    "papermill": {
     "duration": 0.021899,
     "end_time": "2022-05-01T16:24:15.240037",
     "exception": false,
     "start_time": "2022-05-01T16:24:15.218138",
     "status": "completed"
    },
    "tags": []
   },
   "source": [
    "We now have 784 features for every row"
   ]
  },
  {
   "cell_type": "markdown",
   "id": "ab5f65a7",
   "metadata": {
    "papermill": {
     "duration": 0.020097,
     "end_time": "2022-05-01T16:24:15.280370",
     "exception": false,
     "start_time": "2022-05-01T16:24:15.260273",
     "status": "completed"
    },
    "tags": []
   },
   "source": [
    "#### Using SkLearn to scale our data"
   ]
  },
  {
   "cell_type": "code",
   "execution_count": 5,
   "id": "d50f25d5",
   "metadata": {
    "execution": {
     "iopub.execute_input": "2022-05-01T16:24:15.322949Z",
     "iopub.status.busy": "2022-05-01T16:24:15.322409Z",
     "iopub.status.idle": "2022-05-01T16:24:16.111831Z",
     "shell.execute_reply": "2022-05-01T16:24:16.110925Z"
    },
    "papermill": {
     "duration": 0.813439,
     "end_time": "2022-05-01T16:24:16.114249",
     "exception": false,
     "start_time": "2022-05-01T16:24:15.300810",
     "status": "completed"
    },
    "tags": []
   },
   "outputs": [],
   "source": [
    "from sklearn.preprocessing import StandardScaler"
   ]
  },
  {
   "cell_type": "code",
   "execution_count": 6,
   "id": "ebed08b6",
   "metadata": {
    "execution": {
     "iopub.execute_input": "2022-05-01T16:24:16.156486Z",
     "iopub.status.busy": "2022-05-01T16:24:16.156205Z",
     "iopub.status.idle": "2022-05-01T16:24:16.160161Z",
     "shell.execute_reply": "2022-05-01T16:24:16.159303Z"
    },
    "papermill": {
     "duration": 0.027581,
     "end_time": "2022-05-01T16:24:16.162251",
     "exception": false,
     "start_time": "2022-05-01T16:24:16.134670",
     "status": "completed"
    },
    "tags": []
   },
   "outputs": [],
   "source": [
    "sc = StandardScaler()"
   ]
  },
  {
   "cell_type": "code",
   "execution_count": 7,
   "id": "e1385e42",
   "metadata": {
    "execution": {
     "iopub.execute_input": "2022-05-01T16:24:16.204574Z",
     "iopub.status.busy": "2022-05-01T16:24:16.204124Z",
     "iopub.status.idle": "2022-05-01T16:24:17.014822Z",
     "shell.execute_reply": "2022-05-01T16:24:17.013817Z"
    },
    "papermill": {
     "duration": 0.834734,
     "end_time": "2022-05-01T16:24:17.017158",
     "exception": false,
     "start_time": "2022-05-01T16:24:16.182424",
     "status": "completed"
    },
    "tags": []
   },
   "outputs": [
    {
     "data": {
      "text/plain": [
       "(60000, 784)"
      ]
     },
     "execution_count": 7,
     "metadata": {},
     "output_type": "execute_result"
    }
   ],
   "source": [
    "X_ = sc.fit_transform(X_)\n",
    "X_.shape"
   ]
  },
  {
   "cell_type": "markdown",
   "id": "4844ec1f",
   "metadata": {
    "papermill": {
     "duration": 0.02042,
     "end_time": "2022-05-01T16:24:17.058907",
     "exception": false,
     "start_time": "2022-05-01T16:24:17.038487",
     "status": "completed"
    },
    "tags": []
   },
   "source": [
    "Our data has been rescaled for $\\mu = 0$ and $\\sigma = 1$"
   ]
  },
  {
   "cell_type": "code",
   "execution_count": 8,
   "id": "6742ec53",
   "metadata": {
    "execution": {
     "iopub.execute_input": "2022-05-01T16:24:17.101648Z",
     "iopub.status.busy": "2022-05-01T16:24:17.101371Z",
     "iopub.status.idle": "2022-05-01T16:24:17.278785Z",
     "shell.execute_reply": "2022-05-01T16:24:17.277808Z"
    },
    "papermill": {
     "duration": 0.202009,
     "end_time": "2022-05-01T16:24:17.281418",
     "exception": false,
     "start_time": "2022-05-01T16:24:17.079409",
     "status": "completed"
    },
    "tags": []
   },
   "outputs": [
    {
     "data": {
      "image/png": "[encoded data removed]",
      "text/plain": [
       "<Figure size 432x288 with 1 Axes>"
      ]
     },
     "metadata": {},
     "output_type": "display_data"
    }
   ],
   "source": [
    "plt.imshow(X_[1].reshape(28,28), cmap=\"gray\")\n",
    "plt.show()"
   ]
  },
  {
   "cell_type": "markdown",
   "id": "883660af",
   "metadata": {
    "papermill": {
     "duration": 0.021012,
     "end_time": "2022-05-01T16:24:17.325116",
     "exception": false,
     "start_time": "2022-05-01T16:24:17.304104",
     "status": "completed"
    },
    "tags": []
   },
   "source": [
    "Our data is still intact, just a bit hazed"
   ]
  },
  {
   "cell_type": "markdown",
   "id": "06ce99a5",
   "metadata": {
    "papermill": {
     "duration": 0.021233,
     "end_time": "2022-05-01T16:24:17.367679",
     "exception": false,
     "start_time": "2022-05-01T16:24:17.346446",
     "status": "completed"
    },
    "tags": []
   },
   "source": [
    "### PCA using inbuilt SKLearn"
   ]
  },
  {
   "cell_type": "code",
   "execution_count": null,
   "id": "60ce6ac5",
   "metadata": {
    "papermill": {
     "duration": 0.021098,
     "end_time": "2022-05-01T16:24:17.410325",
     "exception": false,
     "start_time": "2022-05-01T16:24:17.389227",
     "status": "completed"
    },
    "tags": []
   },
   "outputs": [],
   "source": []
  }
 ],
 "metadata": {
  "kernelspec": {
   "display_name": "Python 3",
   "language": "python",
   "name": "python3"
  },
  "language_info": {
   "codemirror_mode": {
    "name": "ipython",
    "version": 3
   },
   "file_extension": ".py",
   "mimetype": "text/x-python",
   "name": "python",
   "nbconvert_exporter": "python",
   "pygments_lexer": "ipython3",
   "version": "3.7.12"
  },
  "papermill": {
   "default_parameters": {},
   "duration": 23.687797,
   "end_time": "2022-05-01T16:24:20.531843",
   "environment_variables": {},
   "exception": null,
   "input_path": "__notebook__.ipynb",
   "output_path": "__notebook__.ipynb",
   "parameters": {},
   "start_time": "2022-05-01T16:23:56.844046",
   "version": "2.3.4"
  }
 },
 "nbformat": 4,
 "nbformat_minor": 5
}
