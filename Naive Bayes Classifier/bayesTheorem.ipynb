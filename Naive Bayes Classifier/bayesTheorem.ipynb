{
 "cells": [
  {
   "cell_type": "markdown",
   "metadata": {},
   "source": [
    "### Bayes Theorem\n",
    "- Given $A \\& B$ are events\n",
    "- Probabilities $P(A) \\& P(B)$\n",
    "- Then the probability of A happening such that B has already occured is\n",
    "$$P(A/B) = \\frac{P(B/A) \\cdot P(A)}{P(B)}$$"
   ]
  },
  {
   "cell_type": "markdown",
   "metadata": {},
   "source": [
    "$P(B/A)$ is known as `likelihood` as it gives us the probability of B, given A\\\n",
    "$P(A)$ is called `Prior`\\\n",
    "$P(B)$ is called `normalizer`"
   ]
  },
  {
   "cell_type": "markdown",
   "metadata": {},
   "source": [
    "Also,\n",
    "$$P(A \\cap B) = P(A/B) \\cdot P(B)$$"
   ]
  },
  {
   "cell_type": "markdown",
   "metadata": {},
   "source": [
    "#### Bayes theorem for classification\n",
    "- Using bayes theorem to classify a mail as spam or not spam\n",
    "- Let spam = 1, no spam = 0"
   ]
  },
  {
   "cell_type": "markdown",
   "metadata": {},
   "source": [
    "For spam,\n",
    "$$P(Y=1/X) = \\frac{P(X/Y=1) \\cdot P(Y=1)}{P(X)}$$\n",
    "which essentially means that the probability of it being spam (Y=1) , given the contents of the mail (X)"
   ]
  },
  {
   "cell_type": "markdown",
   "metadata": {},
   "source": [
    "and similarly,\n",
    "$$P(Y=0/X) = \\frac{P(X/Y=0) \\cdot P(Y=0)}{P(X)}$$"
   ]
  },
  {
   "cell_type": "markdown",
   "metadata": {},
   "source": [
    "Whichever results in a higher probability, we classify in that"
   ]
  },
  {
   "cell_type": "markdown",
   "metadata": {},
   "source": [
    "```py\n",
    "return argmax(P(yi/x))\n",
    "```"
   ]
  },
  {
   "cell_type": "markdown",
   "metadata": {},
   "source": [
    "### Algorithm\n",
    "- From training data, we can get how many spams and not spams, hence we get $P(Y=1)$ and $P(Y=0)$\n",
    "- Also, as we just need to compute max, we do not need $P(X)$\n",
    "$$P(Y=c/X) \\propto Likelihood \\cdot Prior$$"
   ]
  },
  {
   "cell_type": "markdown",
   "metadata": {},
   "source": [
    "#### Examples\n",
    "- \"Get **unlimited** **data**, 95% **off**\"\n",
    "- \"I am in meeting\"\n",
    "\n",
    "Now we can train our model with words as features\n",
    "- Words like unlimited, 95% off, get, are generally spam\n",
    "- hence we get high value of $P(X/Y=1)$ (Spam)"
   ]
  }
 ],
 "metadata": {
  "language_info": {
   "name": "python"
  },
  "orig_nbformat": 4
 },
 "nbformat": 4,
 "nbformat_minor": 2
}
