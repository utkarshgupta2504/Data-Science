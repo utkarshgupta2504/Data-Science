{
 "cells": [
  {
   "cell_type": "markdown",
   "metadata": {},
   "source": [
    "### Naive Bayes for Text Classification"
   ]
  },
  {
   "cell_type": "markdown",
   "metadata": {},
   "source": [
    "We use the similar concept of naive bayes like in the mushroom example, but this time we use the preprocessed vectorized text, and use them as features"
   ]
  },
  {
   "cell_type": "markdown",
   "metadata": {},
   "source": [
    "So the formula remains the same\n",
    "$$Conditional = \\frac{count(x_i, y=c)}{\\sum\\limits_w count(w, y=c)}$$"
   ]
  },
  {
   "cell_type": "markdown",
   "metadata": {},
   "source": [
    "#### But this poses a problem!\n",
    "- If the test data has a word, that occured nowhere in the train data\n",
    "- That might be useful, we cannot just say the probability is 0\n",
    "- Also this messes up our likelihood as it becomes 0\n",
    "- To solve this we use `Laplace Smoothing`"
   ]
  },
  {
   "cell_type": "markdown",
   "metadata": {},
   "source": [
    "### Laplace Smoothing\n",
    "- We say that lets increase the count by 1 for each feature\n",
    "- Hence no feature shall have the probability 0\n",
    "- Then the updated formula becomes\n",
    "$$Conditional = \\frac{count(x_i, y=c) + 1}{\\sum\\limits_w^{|v|}\\left[count(w, y=c)\\right] + |v|}$$"
   ]
  },
  {
   "cell_type": "markdown",
   "metadata": {},
   "source": [
    "### Multivariate Bernoulli Naive Bayes\n",
    "- We use the bernoulli equation to classify\n",
    "- For this method, we dont keep the frequency, just the occurence of the word\n",
    "- Bernoulli Equation\n",
    "$$P(x/y=c) = \\prod_{i=1}^nP(x_i/y=c)^b \\cdot (1 - P(x_i/y=c))^{(1-b)}$$\n",
    "where b = 1 if occuring in the vector"
   ]
  },
  {
   "cell_type": "markdown",
   "metadata": {},
   "source": [
    "and,\n",
    "$$P(x_i/y=c) = \\frac{\\text{Count of docs containing c and having }x_i + 1}{\\text{Count of docs having class c} + 2}$$"
   ]
  },
  {
   "cell_type": "markdown",
   "metadata": {},
   "source": []
  }
 ],
 "metadata": {
  "language_info": {
   "name": "python"
  },
  "orig_nbformat": 4
 },
 "nbformat": 4,
 "nbformat_minor": 2
}
