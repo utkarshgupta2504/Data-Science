{
 "cells": [
  {
   "cell_type": "markdown",
   "metadata": {},
   "source": [
    "### Naive Bayes Classifier\n",
    "- Using the Natural Language Preprocessing\n",
    "- And using the vector with Bayes Theorem we can build a classifier"
   ]
  },
  {
   "cell_type": "markdown",
   "metadata": {},
   "source": [
    "Here X will be a vector not a text $X = \\left< x_1, x_2, x_3, \\cdots x_{|v|} \\right>$"
   ]
  },
  {
   "cell_type": "markdown",
   "metadata": {},
   "source": [
    "Now,\n",
    "$$P(x_1x_2x_3 \\cdots x_{|v|}/Y=1) =$$ \n",
    "$$P(x_1/Y=1) \\cdot P(x_2/Y=1,x_1) \\cdot P(x_3/Y=1,x_1x_2) \\cdots P(x_{|v|}/Y=1,x_1x_2 \\cdots x_{|v-1|})$$"
   ]
  },
  {
   "cell_type": "markdown",
   "metadata": {},
   "source": [
    "This technically implies, that for every next document, we see the probability of it being classified to that category **and** the previous terms are accounted for"
   ]
  },
  {
   "cell_type": "markdown",
   "metadata": {},
   "source": [
    "Example:\n",
    "- \".... good ...\"\n",
    "- \"... awesome ...\"\n",
    "- \"... like ...\""
   ]
  },
  {
   "cell_type": "markdown",
   "metadata": {},
   "source": [
    "This would mean\n",
    "$$P = P(awesome / +ve, good) \\cdot P(like / +ve, good, awesome)$$"
   ]
  },
  {
   "cell_type": "markdown",
   "metadata": {},
   "source": [
    "But this is a tough formula to implement, hence we use **naive** bayes algorithm"
   ]
  },
  {
   "cell_type": "markdown",
   "metadata": {},
   "source": [
    "#### `Naive Bayes` says that we can ignore the accountability of previous words, and just move on with the classification\n",
    "- This gave a good considerable result, and hence is widely implemented"
   ]
  },
  {
   "cell_type": "markdown",
   "metadata": {},
   "source": [
    "Hence, finally\n",
    "$$P(X/Y=1) = \\prod_{i=1}^{|v|}P(x_i/Y=1)$$"
   ]
  },
  {
   "cell_type": "markdown",
   "metadata": {},
   "source": [
    "Then, for classification:\n",
    "$$P(Y=1/X) = \\frac{\\prod\\limits_{i=1}^{|v|}P(x_i/Y=1) \\cdot P(Y=1)}{P(X)}$$"
   ]
  },
  {
   "cell_type": "markdown",
   "metadata": {},
   "source": [
    "and $P(X)$ is given by,\n",
    "$$P(X) = P(X/Y=0) \\cdot P(Y=0) + P(X/Y=1) \\cdot P(Y=1)$$"
   ]
  }
 ],
 "metadata": {
  "language_info": {
   "name": "python"
  },
  "orig_nbformat": 4
 },
 "nbformat": 4,
 "nbformat_minor": 2
}
