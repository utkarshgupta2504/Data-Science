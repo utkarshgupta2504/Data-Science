{
 "cells": [
  {
   "cell_type": "markdown",
   "metadata": {},
   "source": [
    "## Linear Regression"
   ]
  },
  {
   "cell_type": "markdown",
   "metadata": {},
   "source": [
    "### Concept\n",
    "- Linear Regression is a supervised algorithm\n",
    "- We are given some data, and the output for that data value\n",
    "- We map the features to the values such that, we get something like $y = f(x)$\n",
    "- Essentially\n",
    "$$y = ax + c + noise$$\n",
    "Where $a$ is some multiplier, $c$ is some constant and noise is the distubrance"
   ]
  },
  {
   "cell_type": "markdown",
   "metadata": {},
   "source": [
    "### Implementation\n",
    "- We plot the output with the feature\n",
    "- We try to fir a linear line that goes along these data points\n",
    "- Try to fit as many points as we can, for proper results\n",
    "- When queried on a data point, we match the line with that input, and return that prediction"
   ]
  },
  {
   "cell_type": "markdown",
   "metadata": {},
   "source": [
    "We generally write the regression equation as\n",
    "$$y = \\theta_1x + \\theta_0$$\n",
    "Where $\\theta_1$ is the multiplier and $\\theta_0$ is the constant"
   ]
  },
  {
   "cell_type": "markdown",
   "metadata": {},
   "source": [
    "### Calculating errors\n",
    "- After getting the **hypothesis**, the predicted line\n",
    "- We compute the distance between the predicted and actual values\n",
    "$$E^{(i)} = |y^{(i)}_{pred} - y^{(i)}_{actual}|$$\n",
    "Denoting $y^{(i)}_{pred}$ by $\\hat{y}$\\\n",
    "We get,\n",
    "$$E_{Total} = \\sum_{i=1}^m|\\hat{y}^{(i)} - y^{(i)}|$$\n",
    "Hence,\n",
    "$$E_{av} = \\frac{1}{m}\\sum_{i=1}^m|\\hat{y}^{(i)} - y^{(i)}|$$"
   ]
  },
  {
   "cell_type": "markdown",
   "metadata": {},
   "source": [
    "#### Mean Square Error (MSE)\n",
    "- This is taken as the general measure for error value\n",
    "- Denoted by $J(\\theta)$\n",
    "$$J(\\theta) = \\frac{1}{m}\\sum_{i=1}^m[\\hat{y}^{(i)} - y^{(i)}]^2$$"
   ]
  },
  {
   "cell_type": "markdown",
   "metadata": {},
   "source": [
    "We try to get a value for $\\theta_1 and \\theta_0$ that gives us minimum value of $J(\\theta)$"
   ]
  }
 ],
 "metadata": {
  "language_info": {
   "name": "python"
  },
  "orig_nbformat": 4
 },
 "nbformat": 4,
 "nbformat_minor": 2
}
