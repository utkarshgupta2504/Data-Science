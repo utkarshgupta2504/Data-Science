{
 "cells": [
  {
   "cell_type": "markdown",
   "metadata": {},
   "source": [
    "## LOWESS\n",
    "- Locally Weighted Regression\n",
    "- Used when the data is not necessarily linear\n",
    "- Basic concept:\n",
    "  - Predict according to points in vicinity\n",
    "  - Have a weighted error function to depend more on points closer to current"
   ]
  },
  {
   "cell_type": "markdown",
   "metadata": {},
   "source": [
    "### Weighted Loss\n",
    "$$\\sum_iW^{(i)}(y^{(i)}-h_{\\theta}(x^{(i)}))^2$$\n",
    "where,\n",
    "$$W^{(i)} = e^{-\\left(\\dfrac{x^{(i)} - x}{2\\tau^2}\\right)^2}$$\n",
    "and $\\tau$ is called `bandwidth parameter`"
   ]
  },
  {
   "cell_type": "markdown",
   "metadata": {},
   "source": [
    "As is clearly seen, if $x = x^{(i)}$, then we get\n",
    "$$e^0 = 1$$\n",
    "as we go farther and farther away\n",
    "$$e^{-\\infty} = 0$$\n",
    "Hence our error gets weighted"
   ]
  },
  {
   "cell_type": "markdown",
   "metadata": {},
   "source": [
    ">\n",
    "> For every query we find a different parameter\n",
    ">"
   ]
  },
  {
   "cell_type": "markdown",
   "metadata": {},
   "source": [
    "As we have to compute $\\theta$ for every point, we use `closed form solution` rather than Gradient Descent, because iterative approaches can cost us a huge time overhead"
   ]
  },
  {
   "cell_type": "markdown",
   "metadata": {},
   "source": [
    "#### Deriving for LOWESS"
   ]
  },
  {
   "cell_type": "markdown",
   "metadata": {},
   "source": [
    "$$J(\\theta) = \\sum_{i=1}^m\\left[h_{\\theta}(x^{(i)}) - y^{(i)}\\right]^2 = (X\\theta - Y)^TW(X\\theta - Y)$$\n",
    "where,\\\n",
    "W is a `diagonal matrix`\n",
    "$$W = \\begin{bmatrix} \n",
    "    W^1 & 0 & 0 & \\cdots & 0 \\\\ \n",
    "    0 & W^2 & 0 & \\cdots & 0 \\\\ \n",
    "    0 & 0 & W^3 & \\cdots & 0 \\\\ \n",
    "    \\vdots & \\vdots & \\vdots & \\ddots & 0 \\\\ \n",
    "    0 & 0 & 0 & \\cdots & W^m \n",
    "\\end{bmatrix}_{m \\times m}$$"
   ]
  },
  {
   "cell_type": "markdown",
   "metadata": {},
   "source": [
    "For minimising,\n",
    "$$\\nabla_{\\theta}J(\\theta) = 0$$\n",
    "$$=> \\frac{\\delta}{\\delta\\theta}J(\\theta) = 0$$"
   ]
  },
  {
   "cell_type": "markdown",
   "metadata": {},
   "source": [
    "On simplifying which gives us,\n",
    "$$\\theta = (X^TWX)^{-1}X^TWY$$\n",
    "This is the `closed form solution` for `LOWESS`"
   ]
  }
 ],
 "metadata": {
  "language_info": {
   "name": "python"
  },
  "orig_nbformat": 4
 },
 "nbformat": 4,
 "nbformat_minor": 2
}
