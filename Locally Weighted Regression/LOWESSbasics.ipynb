{
 "cells": [
  {
   "cell_type": "markdown",
   "metadata": {},
   "source": [
    "## LOWESS\n",
    "- Locally Weighted Regression\n",
    "- Used when the data is not necessarily linear\n",
    "- Basic concept:\n",
    "  - Predict according to points in vicinity\n",
    "  - Have a weighted error function to depend more on points closer to current"
   ]
  },
  {
   "cell_type": "markdown",
   "metadata": {},
   "source": [
    "### Weighted Loss\n",
    "$$\\sum_iW^{(i)}(y^{(i)}-h_{\\theta}(x^{(i)}))^2$$\n",
    "where,\n",
    "$$W^{(i)} = e^{-\\left(\\dfrac{x^{(i)} - x}{2\\tau^2}\\right)^2}$$\n",
    "and $\\tau$ is called `bandwidth parameter`"
   ]
  },
  {
   "cell_type": "markdown",
   "metadata": {},
   "source": [
    "As is clearly seen, if $x = x^{(i)}$, then we get\n",
    "$$e^0 = 1$$\n",
    "as we go farther and farther away\n",
    "$$e^{-\\infty} = 0$$\n",
    "Hence our error gets weighted"
   ]
  },
  {
   "cell_type": "markdown",
   "metadata": {},
   "source": [
    "> For every query we find a different parameter"
   ]
  },
  {
   "cell_type": "markdown",
   "metadata": {},
   "source": []
  }
 ],
 "metadata": {
  "language_info": {
   "name": "python"
  },
  "orig_nbformat": 4
 },
 "nbformat": 4,
 "nbformat_minor": 2
}
