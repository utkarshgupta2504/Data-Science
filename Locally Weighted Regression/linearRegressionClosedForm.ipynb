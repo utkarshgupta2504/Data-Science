{
 "cells": [
  {
   "cell_type": "markdown",
   "metadata": {},
   "source": [
    "### Linear Regression Closed Form Solution\n",
    "$$\\theta = (X^TX)^{-1}X^Ty$$\n",
    "Helps us find the right $\\theta$ by just applying this"
   ]
  },
  {
   "cell_type": "markdown",
   "metadata": {},
   "source": [
    "#### Dimensions:\n",
    "$$X => m \\times (n+1)$$\n",
    "$$y => m \\times 1$$\n",
    "$$\\theta => (n+1) \\times 1$$"
   ]
  },
  {
   "cell_type": "markdown",
   "metadata": {},
   "source": [
    "#### Proof"
   ]
  },
  {
   "cell_type": "markdown",
   "metadata": {},
   "source": [
    "We know,\n",
    "$$J(\\theta) = \\frac{1}{m}\\sum_{i=1}^m(y_{pred} - y)^2$$\n",
    "where,\n",
    "$$y_{pred} = h_{\\theta}(x) = \\sum_{i=0}^n\\theta_ix_i$$\n",
    "and,\n",
    "$$x_0 = 1$$"
   ]
  },
  {
   "cell_type": "markdown",
   "metadata": {},
   "source": [
    "#### In matrix notation:"
   ]
  },
  {
   "cell_type": "markdown",
   "metadata": {},
   "source": [
    "$$J(\\theta) = \\frac{1}{m}(X\\theta - y)^2$$\n",
    "For scalar,\n",
    "$$J(\\theta) = \\frac{1}{m}(X\\theta - y)^T(X\\theta - y)$$\n",
    "Multiplying and simplifiying,\n",
    "$$J(\\theta) = \\theta^TX^TX\\theta - \\theta^TX^Ty - y^TX\\theta - y^Ty$$"
   ]
  },
  {
   "cell_type": "markdown",
   "metadata": {},
   "source": [
    "For minimum value, we differentiate, and get\n",
    "$$\\theta = (X^TX)^{-1}X^Ty$$"
   ]
  },
  {
   "cell_type": "markdown",
   "metadata": {},
   "source": [
    "### Implementation"
   ]
  },
  {
   "cell_type": "code",
   "execution_count": 1,
   "metadata": {},
   "outputs": [],
   "source": [
    "import numpy as np\n",
    "import matplotlib.pyplot as plt\n",
    "from sklearn.datasets import make_regression\n",
    "\n",
    "plt.style.use(\"dark_background\")"
   ]
  },
  {
   "cell_type": "code",
   "execution_count": 9,
   "metadata": {},
   "outputs": [
    {
     "name": "stdout",
     "output_type": "stream",
     "text": [
      "(400, 1) (400, 1)\n"
     ]
    }
   ],
   "source": [
    "X, Y = make_regression(n_samples=400, n_features=1, n_informative=1, noise=10, random_state=1)\n",
    "\n",
    "Y = Y.reshape(-1, 1)\n",
    "print(X.shape, Y.shape)"
   ]
  },
  {
   "cell_type": "code",
   "execution_count": 11,
   "metadata": {},
   "outputs": [],
   "source": [
    "# Normalise\n",
    "X = (X - X.mean())/X.std()"
   ]
  },
  {
   "cell_type": "code",
   "execution_count": 12,
   "metadata": {},
   "outputs": [
    {
     "data": {
      "image/png": "[encoded data removed]",
      "text/plain": [
       "<Figure size 432x288 with 1 Axes>"
      ]
     },
     "metadata": {},
     "output_type": "display_data"
    }
   ],
   "source": [
    "plt.scatter(X, Y)\n",
    "plt.show()"
   ]
  },
  {
   "cell_type": "code",
   "execution_count": 15,
   "metadata": {},
   "outputs": [
    {
     "data": {
      "text/plain": [
       "(400, 2)"
      ]
     },
     "execution_count": 15,
     "metadata": {},
     "output_type": "execute_result"
    }
   ],
   "source": [
    "# Add dummy x0\n",
    "\n",
    "ones = np.ones((X.shape[0], 1))\n",
    "\n",
    "X_ = np.hstack((X, ones))\n",
    "X_.shape\n"
   ]
  },
  {
   "cell_type": "code",
   "execution_count": 16,
   "metadata": {},
   "outputs": [],
   "source": [
    "# Functions\n",
    "def predict(X, theta):\n",
    "    return np.dot(X, theta)\n",
    "\n",
    "def getThetaClosedForm(X, Y):\n",
    "\n",
    "    firstPart = np.dot(X.T, X)\n",
    "    secondPart = np.dot(X.T, Y)\n",
    "\n",
    "    return np.dot(np.linalg.pinv(firstPart), secondPart)"
   ]
  },
  {
   "cell_type": "code",
   "execution_count": 17,
   "metadata": {},
   "outputs": [
    {
     "data": {
      "text/plain": [
       "array([[50.62196534],\n",
       "       [ 2.41565243]])"
      ]
     },
     "execution_count": 17,
     "metadata": {},
     "output_type": "execute_result"
    }
   ],
   "source": [
    "theta = getThetaClosedForm(X_, Y)\n",
    "theta"
   ]
  },
  {
   "cell_type": "code",
   "execution_count": 18,
   "metadata": {},
   "outputs": [
    {
     "data": {
      "image/png": "[encoded data removed]",
      "text/plain": [
       "<Figure size 432x288 with 1 Axes>"
      ]
     },
     "metadata": {},
     "output_type": "display_data"
    }
   ],
   "source": [
    "plt.scatter(X, Y)\n",
    "plt.plot(X, predict(X_, theta), color=\"red\", label=\"Prediction\")\n",
    "plt.legend()\n",
    "plt.show()"
   ]
  },
  {
   "cell_type": "markdown",
   "metadata": {},
   "source": [
    "Our prediction model works quite well"
   ]
  }
 ],
 "metadata": {
  "interpreter": {
   "hash": "98590ff4fe04c8543246b2a01debd3de3c5ca9b666f43f1fa87d5110c692004c"
  },
  "kernelspec": {
   "display_name": "Python 3.10.2 64-bit",
   "language": "python",
   "name": "python3"
  },
  "language_info": {
   "codemirror_mode": {
    "name": "ipython",
    "version": 3
   },
   "file_extension": ".py",
   "mimetype": "text/x-python",
   "name": "python",
   "nbconvert_exporter": "python",
   "pygments_lexer": "ipython3",
   "version": "3.10.2"
  },
  "orig_nbformat": 4
 },
 "nbformat": 4,
 "nbformat_minor": 2
}
