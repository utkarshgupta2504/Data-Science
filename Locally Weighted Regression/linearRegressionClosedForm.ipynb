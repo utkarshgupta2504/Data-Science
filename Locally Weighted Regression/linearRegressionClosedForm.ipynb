{
 "cells": [
  {
   "cell_type": "markdown",
   "metadata": {},
   "source": [
    "### Linear Regression Closed Form Solution\n",
    "$$\\theta = (X^TX)^{-1}X^Ty$$\n",
    "Helps us find the right $\\theta$ by just applying this"
   ]
  },
  {
   "cell_type": "markdown",
   "metadata": {},
   "source": [
    "#### Dimensions:\n",
    "$$X => m \\times (n+1)$$\n",
    "$$y => m \\times 1$$\n",
    "$$\\theta => (n+1) \\times 1$$"
   ]
  },
  {
   "cell_type": "markdown",
   "metadata": {},
   "source": [
    "#### Proof"
   ]
  },
  {
   "cell_type": "markdown",
   "metadata": {},
   "source": [
    "We know,\n",
    "$$J(\\theta) = \\frac{1}{m}\\sum_{i=1}^m(y_{pred} - y)^2$$\n",
    "where,\n",
    "$$y_{pred} = h_{\\theta}(x) = \\sum_{i=0}^n\\theta_ix_i$$\n",
    "and,\n",
    "$$x_0 = 1$$"
   ]
  },
  {
   "cell_type": "markdown",
   "metadata": {},
   "source": [
    "#### In matrix notation:"
   ]
  },
  {
   "cell_type": "markdown",
   "metadata": {},
   "source": [
    "$$J(\\theta) = \\frac{1}{m}(X\\theta - y)^2$$\n",
    "For scalar,\n",
    "$$J(\\theta) = \\frac{1}{m}(X\\theta - y)^T(X\\theta - y)$$\n",
    "Multiplying and simplifiying,\n",
    "$$J(\\theta) = \\theta^TX^TX\\theta - \\theta^TX^Ty - y^TX\\theta - y^Ty$$"
   ]
  },
  {
   "cell_type": "markdown",
   "metadata": {},
   "source": [
    "For minimum value, we differentiate, and get\n",
    "$$\\theta = (X^TX)^{-1}X^Ty$$"
   ]
  },
  {
   "cell_type": "markdown",
   "metadata": {},
   "source": []
  }
 ],
 "metadata": {
  "language_info": {
   "name": "python"
  },
  "orig_nbformat": 4
 },
 "nbformat": 4,
 "nbformat_minor": 2
}
