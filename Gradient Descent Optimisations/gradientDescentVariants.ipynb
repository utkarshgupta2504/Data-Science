{
 "cells": [
  {
   "cell_type": "markdown",
   "metadata": {},
   "source": [
    "### Variants\n",
    "- Gradient Descent is overall a slow process, so some variant exists\n",
    "- Batch Gradient Descent (Normal)\n",
    "- Stochastic Gradient Descent\n",
    "- Mini Batch Gradient Descent"
   ]
  },
  {
   "cell_type": "markdown",
   "metadata": {},
   "source": [
    "### Batch GD\n",
    "- The basic Gradient Descent\n",
    "- Gradient is updated after traversing the whole data and finding the error\n",
    "- Advantages\n",
    "  - Takes all datasets in consideration\n",
    "  - Vectorization is possible\n",
    "- Disadvantages\n",
    "  - Slower convergence"
   ]
  },
  {
   "cell_type": "markdown",
   "metadata": {},
   "source": [
    "### Stochastic GD\n",
    "- Gradient is updated after running through a single dataset\n",
    "- For the next update, the next data set is used\n",
    "- Advantages\n",
    "  - Faster convergence\n",
    "- Disadvantages\n",
    "  - Noisy updates\n",
    "  - No vectorization"
   ]
  },
  {
   "cell_type": "markdown",
   "metadata": {},
   "source": [
    "### Mini Batch GD\n",
    "- Gradient is updated after running through a subset of data\n",
    "- The data is divided into `mini batches` and error is found in that lot\n",
    "- Advantages\n",
    "  - Has a fair trade off between noise and speed\n",
    "- Disadvantages\n",
    "  - Partial Vectorization"
   ]
  },
  {
   "cell_type": "markdown",
   "metadata": {},
   "source": [
    "#### Pseudo code for mini batch\n",
    "```py\n",
    "for e in range(MAX_ITRS):\n",
    "    shuffle(data)\n",
    "\n",
    "    for batch in all_batches:\n",
    "        x1, y1 = batch\n",
    "        grad = gradient(x1, y1)\n",
    "        theta = theta - learning_rate * grad\n",
    "```\n",
    "\n",
    "- As we can see, the frequency of updations of theta is more in this case\n",
    "- This leads to noisy but faster convergence\n",
    "- Also theta is trained on previously trained mini batch, hence faster convergence"
   ]
  }
 ],
 "metadata": {
  "language_info": {
   "name": "python"
  },
  "orig_nbformat": 4
 },
 "nbformat": 4,
 "nbformat_minor": 2
}
