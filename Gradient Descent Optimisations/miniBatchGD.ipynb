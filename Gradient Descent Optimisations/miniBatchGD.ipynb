{
 "cells": [
  {
   "cell_type": "markdown",
   "metadata": {},
   "source": [
    "### Implementing Batch GD"
   ]
  },
  {
   "cell_type": "code",
   "execution_count": 192,
   "metadata": {},
   "outputs": [],
   "source": [
    "import numpy as np\n",
    "from sklearn.datasets import make_regression\n",
    "import matplotlib.pyplot as plt\n",
    "\n",
    "plt.style.use(\"dark_background\")"
   ]
  },
  {
   "cell_type": "code",
   "execution_count": 193,
   "metadata": {},
   "outputs": [],
   "source": [
    "# Generating dataset\n",
    "X,y= make_regression(n_samples=1000, n_features=20,n_informative=20,noise=10)\n",
    "X.shape, y.shape\n",
    "\n",
    "# Normalisation\n",
    "u = np.mean(X, axis=0)\n",
    "std = np.std(X, axis=0)\n",
    "\n",
    "X = (X-u)/std"
   ]
  },
  {
   "cell_type": "code",
   "execution_count": 194,
   "metadata": {},
   "outputs": [
    {
     "data": {
      "text/plain": [
       "(1000, 21)"
      ]
     },
     "execution_count": 194,
     "metadata": {},
     "output_type": "execute_result"
    }
   ],
   "source": [
    "# Preprocessing\n",
    "m = X.shape[0]\n",
    "ones = np.ones((m,1))\n",
    "\n",
    "X = np.hstack((ones, X))\n",
    "X.shape"
   ]
  },
  {
   "cell_type": "code",
   "execution_count": 195,
   "metadata": {},
   "outputs": [],
   "source": [
    "# Defining functions for Batch Gradient Descent\n",
    "def hypothesis(X, theta):\n",
    "    return np.dot(X, theta)\n",
    "\n",
    "def error(X, y, theta):\n",
    "\n",
    "    e = 0.0\n",
    "    m = X.shape[0]\n",
    "\n",
    "    y_ = hypothesis(X, theta)\n",
    "    e = np.sum((y - y_)**2)\n",
    "\n",
    "    return e/m\n",
    "\n",
    "def gradient(X, y, theta):\n",
    "\n",
    "    y_ = hypothesis(X, theta)\n",
    "    grad = np.dot(X.T, y_ - y)\n",
    "    m = X.shape[0]\n",
    "    return grad/m\n",
    "\n",
    "def batch_gradient_descent(X, y, learning_rate = 0.01, max_steps = 300):\n",
    "\n",
    "    m, n = X.shape\n",
    "    theta = np.zeros((n,))\n",
    "    error_list = []\n",
    "\n",
    "    for _ in range(max_steps):\n",
    "        # Batch Gradient -> Complete data set at once\n",
    "\n",
    "        e = error(X, y, theta)\n",
    "        error_list.append(e)\n",
    "\n",
    "        grad = gradient(X, y, theta)\n",
    "        theta -= learning_rate*grad\n",
    "\n",
    "    return theta, error_list\n"
   ]
  },
  {
   "cell_type": "code",
   "execution_count": 196,
   "metadata": {},
   "outputs": [],
   "source": [
    "theta, error_list = batch_gradient_descent(X, y)"
   ]
  },
  {
   "cell_type": "code",
   "execution_count": 197,
   "metadata": {},
   "outputs": [
    {
     "data": {
      "text/plain": [
       "[<matplotlib.lines.Line2D at 0x14f815750>]"
      ]
     },
     "execution_count": 197,
     "metadata": {},
     "output_type": "execute_result"
    },
    {
     "data": {
      "image/png": "[encoded data removed]",
      "text/plain": [
       "<Figure size 432x288 with 1 Axes>"
      ]
     },
     "metadata": {},
     "output_type": "display_data"
    }
   ],
   "source": [
    "plt.plot(error_list)"
   ]
  },
  {
   "cell_type": "markdown",
   "metadata": {},
   "source": [
    "As can be seen, the error drops from 70k to saturation in 250+ steps"
   ]
  },
  {
   "cell_type": "markdown",
   "metadata": {},
   "source": [
    "### Implementing Mini Batch GD"
   ]
  },
  {
   "cell_type": "code",
   "execution_count": 198,
   "metadata": {},
   "outputs": [],
   "source": [
    "# Defining functions for Mini Batch Gradient Descent\n",
    "\n",
    "def mini_batch_gradient_descent(X, y, learning_rate = 0.01, max_steps = 100, batch_size = 50):\n",
    "\n",
    "    error_list=[]\n",
    "    all_error_list = []\n",
    "    theta=np.zeros((X.shape[1],))\n",
    "\n",
    "    data=np.hstack((X,y.reshape(-1,1)))\n",
    "\n",
    "    for _ in range(max_steps):\n",
    "        np.random.shuffle(data)\n",
    "        m=data.shape[0]\n",
    "\n",
    "        total_batches=m//batch_size\n",
    "\n",
    "        for i in range(total_batches):\n",
    "\n",
    "            batch_data=data[i*batch_size:(i+1)*batch_size]\n",
    "\n",
    "            X_batch = batch_data[:,:-1]\n",
    "            y_batch = batch_data[:,-1]\n",
    "\n",
    "            batch_gradient=gradient(X_batch,y_batch,theta)\n",
    "\n",
    "            theta = theta - learning_rate*batch_gradient\n",
    "\n",
    "            err = error(X_batch,y_batch,theta)\n",
    "            all_error_list.append(err)\n",
    "\n",
    "        e = error(X_batch, y_batch, theta)\n",
    "        error_list.append(e)\n",
    "            \n",
    "    return theta, error_list, all_error_list"
   ]
  },
  {
   "cell_type": "code",
   "execution_count": 199,
   "metadata": {},
   "outputs": [],
   "source": [
    "theta, error_list, all_error_list = mini_batch_gradient_descent(X, y)"
   ]
  },
  {
   "cell_type": "code",
   "execution_count": 200,
   "metadata": {},
   "outputs": [
    {
     "data": {
      "image/png": "[encoded data removed]",
      "text/plain": [
       "<Figure size 432x288 with 1 Axes>"
      ]
     },
     "metadata": {},
     "output_type": "display_data"
    }
   ],
   "source": [
    "plt.plot(error_list)\n",
    "plt.show()"
   ]
  },
  {
   "cell_type": "code",
   "execution_count": 201,
   "metadata": {},
   "outputs": [
    {
     "data": {
      "text/plain": [
       "[42789.19253491112,\n",
       " 25285.997420178282,\n",
       " 20265.659077942943,\n",
       " 11822.968215658615,\n",
       " 6028.923701806368,\n",
       " 4814.892534935198,\n",
       " 3539.147703175482,\n",
       " 2449.6715541369385,\n",
       " 1366.3920115556998,\n",
       " 1404.036506859575,\n",
       " 972.9953444217313,\n",
       " 434.24525088097414,\n",
       " 363.96530039371333,\n",
       " 257.9469339376936,\n",
       " 227.45413497016705,\n",
       " 137.3134511787886,\n",
       " 157.06268353749002,\n",
       " 126.1788547082824,\n",
       " 143.1250422695877,\n",
       " 129.99572819866466,\n",
       " 108.62951326613882,\n",
       " 102.56706339504734,\n",
       " 89.61331166021132,\n",
       " 92.73328801241257,\n",
       " 87.36722976281072,\n",
       " 80.27891725886595,\n",
       " 109.16200751539677,\n",
       " 75.95819189430627,\n",
       " 88.63872091790329,\n",
       " 84.70534260273917,\n",
       " 104.56117350583976,\n",
       " 114.79066267504069,\n",
       " 91.12173502785745,\n",
       " 80.49094119326918,\n",
       " 93.96726087357612,\n",
       " 88.62614424721527,\n",
       " 99.32350522746205,\n",
       " 99.78685990178805,\n",
       " 122.0229759745214,\n",
       " 64.64937055885207,\n",
       " 108.01584575855826,\n",
       " 54.932597090493026,\n",
       " 105.10470661270527,\n",
       " 116.3528088026045,\n",
       " 99.24191950320345,\n",
       " 98.63339952719276,\n",
       " 113.52980822258475,\n",
       " 99.84243229403265,\n",
       " 78.32521548957156,\n",
       " 95.48583079130938,\n",
       " 100.22586033811882,\n",
       " 95.73236676244267,\n",
       " 93.41723142806488,\n",
       " 88.15900789260455,\n",
       " 99.00688767632926,\n",
       " 107.05956856810248,\n",
       " 88.65400241658944,\n",
       " 106.09017242207365,\n",
       " 101.1656040951468,\n",
       " 76.5547551768391,\n",
       " 113.09703555423434,\n",
       " 86.28721379621994,\n",
       " 97.75360801458913,\n",
       " 129.27046032758034,\n",
       " 112.13482547592726,\n",
       " 140.73013550683453,\n",
       " 114.48520054580332,\n",
       " 134.55606487181592,\n",
       " 91.63585260182703,\n",
       " 124.74721372186333,\n",
       " 123.64097516535007,\n",
       " 142.2141616267717,\n",
       " 81.10813362201353,\n",
       " 101.92086984841299,\n",
       " 104.82337186111778,\n",
       " 66.83978717953566,\n",
       " 104.2029744577999,\n",
       " 91.53710864567,\n",
       " 134.96391042060114,\n",
       " 74.12572542283546,\n",
       " 103.00240168616553,\n",
       " 123.58772105512955,\n",
       " 80.84150438880144,\n",
       " 66.22108250439503,\n",
       " 109.4341642681856,\n",
       " 101.06457768903356,\n",
       " 119.39241698563994,\n",
       " 119.15168721749178,\n",
       " 106.27248396293902,\n",
       " 87.12701697708236,\n",
       " 104.27978496750075,\n",
       " 131.89240897735988,\n",
       " 112.35140048898724,\n",
       " 60.64510948813744,\n",
       " 68.6116392887171,\n",
       " 92.16756042287298,\n",
       " 65.37059963038136,\n",
       " 98.92352730844908,\n",
       " 84.28992011615725,\n",
       " 95.10634256060204]"
      ]
     },
     "execution_count": 201,
     "metadata": {},
     "output_type": "execute_result"
    }
   ],
   "source": [
    "error_list"
   ]
  },
  {
   "cell_type": "markdown",
   "metadata": {},
   "source": [
    "We see, we get the saturation in $\\leq$ 20 steps!!"
   ]
  },
  {
   "cell_type": "markdown",
   "metadata": {},
   "source": [
    "For a better noisy graph, with more data points having all iterations of theta"
   ]
  },
  {
   "cell_type": "code",
   "execution_count": 202,
   "metadata": {},
   "outputs": [
    {
     "data": {
      "image/png": "[encoded data removed]",
      "text/plain": [
       "<Figure size 432x288 with 1 Axes>"
      ]
     },
     "metadata": {},
     "output_type": "display_data"
    }
   ],
   "source": [
    "plt.plot(all_error_list)\n",
    "plt.show()"
   ]
  },
  {
   "cell_type": "markdown",
   "metadata": {},
   "source": [
    "We can see that updates are noisy, but we get faster convergence"
   ]
  }
 ],
 "metadata": {
  "interpreter": {
   "hash": "98590ff4fe04c8543246b2a01debd3de3c5ca9b666f43f1fa87d5110c692004c"
  },
  "kernelspec": {
   "display_name": "Python 3.10.2 64-bit",
   "language": "python",
   "name": "python3"
  },
  "language_info": {
   "codemirror_mode": {
    "name": "ipython",
    "version": 3
   },
   "file_extension": ".py",
   "mimetype": "text/x-python",
   "name": "python",
   "nbconvert_exporter": "python",
   "pygments_lexer": "ipython3",
   "version": "3.10.2"
  },
  "orig_nbformat": 4
 },
 "nbformat": 4,
 "nbformat_minor": 2
}
