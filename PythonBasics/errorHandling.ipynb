{
 "cells": [
  {
   "cell_type": "markdown",
   "metadata": {},
   "source": [
    "### Error vs Exception\n",
    "- Exceptions are errors that are detected during run time and are not unconditionally fatal"
   ]
  },
  {
   "cell_type": "markdown",
   "metadata": {},
   "source": [
    "Syntax errors cannot be caught in exceptions, there is no way a program can run with that, but zero division error can be an exception"
   ]
  },
  {
   "cell_type": "markdown",
   "metadata": {},
   "source": [
    "We use the following to catch errors\n",
    "- try\n",
    "- catch"
   ]
  },
  {
   "cell_type": "code",
   "execution_count": 1,
   "metadata": {},
   "outputs": [],
   "source": [
    "def div(a, b):\n",
    "    return a/b"
   ]
  },
  {
   "cell_type": "code",
   "execution_count": 2,
   "metadata": {},
   "outputs": [
    {
     "ename": "ZeroDivisionError",
     "evalue": "division by zero",
     "output_type": "error",
     "traceback": [
      "\u001b[1;31m---------------------------------------------------------------------------\u001b[0m",
      "\u001b[1;31mZeroDivisionError\u001b[0m                         Traceback (most recent call last)",
      "\u001b[1;32m~\\AppData\\Local\\Temp/ipykernel_3892/1988637933.py\u001b[0m in \u001b[0;36m<module>\u001b[1;34m\u001b[0m\n\u001b[1;32m----> 1\u001b[1;33m \u001b[0mdiv\u001b[0m\u001b[1;33m(\u001b[0m\u001b[1;36m10\u001b[0m\u001b[1;33m,\u001b[0m \u001b[1;36m0\u001b[0m\u001b[1;33m)\u001b[0m\u001b[1;33m\u001b[0m\u001b[1;33m\u001b[0m\u001b[0m\n\u001b[0m",
      "\u001b[1;32m~\\AppData\\Local\\Temp/ipykernel_3892/1182770074.py\u001b[0m in \u001b[0;36mdiv\u001b[1;34m(a, b)\u001b[0m\n\u001b[0;32m      1\u001b[0m \u001b[1;32mdef\u001b[0m \u001b[0mdiv\u001b[0m\u001b[1;33m(\u001b[0m\u001b[0ma\u001b[0m\u001b[1;33m,\u001b[0m \u001b[0mb\u001b[0m\u001b[1;33m)\u001b[0m\u001b[1;33m:\u001b[0m\u001b[1;33m\u001b[0m\u001b[1;33m\u001b[0m\u001b[0m\n\u001b[1;32m----> 2\u001b[1;33m     \u001b[1;32mreturn\u001b[0m \u001b[0ma\u001b[0m\u001b[1;33m/\u001b[0m\u001b[0mb\u001b[0m\u001b[1;33m\u001b[0m\u001b[1;33m\u001b[0m\u001b[0m\n\u001b[0m",
      "\u001b[1;31mZeroDivisionError\u001b[0m: division by zero"
     ]
    }
   ],
   "source": [
    "div(10, 0)"
   ]
  },
  {
   "cell_type": "markdown",
   "metadata": {},
   "source": [
    "On errors our programs quit, hence we need error catching"
   ]
  },
  {
   "cell_type": "code",
   "execution_count": 5,
   "metadata": {},
   "outputs": [],
   "source": [
    "def div(a, b):\n",
    "\n",
    "    try:\n",
    "        return a/b\n",
    "    except:\n",
    "        print(\"ERROR! But dont quit\")\n",
    "\n",
    "    print(\"Out of division\")"
   ]
  },
  {
   "cell_type": "code",
   "execution_count": 6,
   "metadata": {},
   "outputs": [
    {
     "name": "stdout",
     "output_type": "stream",
     "text": [
      "ERROR! But dont quit\n",
      "Out of division\n"
     ]
    }
   ],
   "source": [
    "div(10, 0)"
   ]
  },
  {
   "cell_type": "markdown",
   "metadata": {},
   "source": [
    "Catching the class of the error"
   ]
  },
  {
   "cell_type": "code",
   "execution_count": 14,
   "metadata": {},
   "outputs": [
    {
     "name": "stdout",
     "output_type": "stream",
     "text": [
      "Exception: <class 'ZeroDivisionError'>\n"
     ]
    }
   ],
   "source": [
    "try:\n",
    "    print(10/0)\n",
    "except Exception as e:\n",
    "    print(f\"Exception: {type(e)}\")"
   ]
  },
  {
   "cell_type": "code",
   "execution_count": 15,
   "metadata": {},
   "outputs": [
    {
     "name": "stdout",
     "output_type": "stream",
     "text": [
      "Trying to divide by zero!\n"
     ]
    }
   ],
   "source": [
    "#Trying to catch specific exceptions\n",
    "\n",
    "try:\n",
    "    print(10 / 0)\n",
    "except ZeroDivisionError:\n",
    "    print(\"Trying to divide by zero!\")"
   ]
  },
  {
   "cell_type": "markdown",
   "metadata": {},
   "source": [
    "But we cannot catch other exception if we specify"
   ]
  },
  {
   "cell_type": "code",
   "execution_count": 16,
   "metadata": {},
   "outputs": [
    {
     "ename": "ValueError",
     "evalue": "invalid literal for int() with base 10: 'UTkarsh'",
     "output_type": "error",
     "traceback": [
      "\u001b[1;31m---------------------------------------------------------------------------\u001b[0m",
      "\u001b[1;31mValueError\u001b[0m                                Traceback (most recent call last)",
      "\u001b[1;32m~\\AppData\\Local\\Temp/ipykernel_3892/4093244989.py\u001b[0m in \u001b[0;36m<module>\u001b[1;34m\u001b[0m\n\u001b[0;32m      1\u001b[0m \u001b[1;32mtry\u001b[0m\u001b[1;33m:\u001b[0m\u001b[1;33m\u001b[0m\u001b[1;33m\u001b[0m\u001b[0m\n\u001b[1;32m----> 2\u001b[1;33m     \u001b[0mprint\u001b[0m\u001b[1;33m(\u001b[0m\u001b[0mint\u001b[0m\u001b[1;33m(\u001b[0m\u001b[1;34m\"UTkarsh\"\u001b[0m\u001b[1;33m)\u001b[0m\u001b[1;33m)\u001b[0m\u001b[1;33m\u001b[0m\u001b[1;33m\u001b[0m\u001b[0m\n\u001b[0m\u001b[0;32m      3\u001b[0m \u001b[1;32mexcept\u001b[0m \u001b[0mZeroDivisionError\u001b[0m\u001b[1;33m:\u001b[0m\u001b[1;33m\u001b[0m\u001b[1;33m\u001b[0m\u001b[0m\n\u001b[0;32m      4\u001b[0m     \u001b[0mprint\u001b[0m\u001b[1;33m(\u001b[0m\u001b[1;34m\"Error!\"\u001b[0m\u001b[1;33m)\u001b[0m\u001b[1;33m\u001b[0m\u001b[1;33m\u001b[0m\u001b[0m\n",
      "\u001b[1;31mValueError\u001b[0m: invalid literal for int() with base 10: 'UTkarsh'"
     ]
    }
   ],
   "source": [
    "try:\n",
    "    print(int(\"UTkarsh\"))\n",
    "except ZeroDivisionError:\n",
    "    print(\"Error!\")"
   ]
  },
  {
   "cell_type": "markdown",
   "metadata": {},
   "source": [
    "We can chain except for this"
   ]
  },
  {
   "cell_type": "code",
   "execution_count": 17,
   "metadata": {},
   "outputs": [
    {
     "name": "stdout",
     "output_type": "stream",
     "text": [
      "value error\n"
     ]
    }
   ],
   "source": [
    "try: \n",
    "    print(int(\"Utkarsh\"))\n",
    "except ZeroDivisionError:\n",
    "    print(\"Zero division\")\n",
    "except ValueError:\n",
    "    print(\"value error\")\n",
    "except:\n",
    "    print(\"Some other error\") #Default handler"
   ]
  },
  {
   "cell_type": "markdown",
   "metadata": {},
   "source": [
    "#### Custom Exceptions\n",
    "- Using `raise`"
   ]
  },
  {
   "cell_type": "code",
   "execution_count": 19,
   "metadata": {},
   "outputs": [
    {
     "name": "stdout",
     "output_type": "stream",
     "text": [
      "Error: ('Some custom error', 1, 2)\n"
     ]
    }
   ],
   "source": [
    "try:\n",
    "    raise Exception(\"Some custom error\", 1, 2)\n",
    "except Exception as e:\n",
    "    print(\"Error: \" + str(e))"
   ]
  },
  {
   "cell_type": "code",
   "execution_count": 20,
   "metadata": {},
   "outputs": [],
   "source": [
    "#Creating custom exception class\n",
    "\n",
    "class MyExceptionClass:\n",
    "\n",
    "    def __init__(self, message): \n",
    "        self.message = message \n",
    "\n",
    "    def __str__(self):\n",
    "        return self.message"
   ]
  },
  {
   "cell_type": "code",
   "execution_count": 21,
   "metadata": {},
   "outputs": [
    {
     "name": "stdout",
     "output_type": "stream",
     "text": [
      "exceptions must derive from BaseException\n"
     ]
    }
   ],
   "source": [
    "try: \n",
    "    raise MyExceptionClass(\"my exception\")\n",
    "except Exception as e:\n",
    "    print(e)"
   ]
  },
  {
   "cell_type": "markdown",
   "metadata": {},
   "source": [
    "We have to inherit this to be caught by `Exception` class"
   ]
  },
  {
   "cell_type": "code",
   "execution_count": 22,
   "metadata": {},
   "outputs": [],
   "source": [
    "class MyExceptionClass(Exception):\n",
    "\n",
    "    def __init__(self, message): \n",
    "        self.message = message \n",
    "\n",
    "    def __str__(self):\n",
    "        return self.message"
   ]
  },
  {
   "cell_type": "code",
   "execution_count": 24,
   "metadata": {},
   "outputs": [
    {
     "name": "stdout",
     "output_type": "stream",
     "text": [
      "my exception\n"
     ]
    }
   ],
   "source": [
    "try: \n",
    "    raise MyExceptionClass(\"my exception\")\n",
    "except Exception as e:\n",
    "    print(e.message)"
   ]
  },
  {
   "cell_type": "markdown",
   "metadata": {},
   "source": [
    "More functions coupled with `try`\n",
    "- `else`: Executes when `try` completes without exception and does not return anything\n",
    "- `finally`: Always executes last, no matter exception"
   ]
  },
  {
   "cell_type": "code",
   "execution_count": 25,
   "metadata": {},
   "outputs": [
    {
     "name": "stdout",
     "output_type": "stream",
     "text": [
      "a\n",
      "b\n",
      "Else block (No exception and no return in try\n",
      "Finally block\n"
     ]
    }
   ],
   "source": [
    "try:\n",
    "    print(\"a\")\n",
    "    print(\"b\")\n",
    "except:\n",
    "    print(\"Exception occured\")\n",
    "else:\n",
    "    print(\"Else block (No exception and no return in try\")\n",
    "finally:\n",
    "    print(\"Finally block\")"
   ]
  },
  {
   "cell_type": "code",
   "execution_count": 26,
   "metadata": {},
   "outputs": [
    {
     "name": "stdout",
     "output_type": "stream",
     "text": [
      "a\n",
      "Exception occured\n",
      "Finally block\n"
     ]
    }
   ],
   "source": [
    "try:\n",
    "    print(\"a\")\n",
    "    print(10/0)\n",
    "except:\n",
    "    print(\"Exception occured\")\n",
    "else:\n",
    "    print(\"Else block (No exception and no return in try\")\n",
    "finally:\n",
    "    print(\"Finally block\")"
   ]
  },
  {
   "cell_type": "markdown",
   "metadata": {},
   "source": [
    "### So why `finally`?\n",
    "- Majorly finally used for cleanup code\n",
    "  - Clearing buffer\n",
    "  - Closing open files"
   ]
  },
  {
   "cell_type": "markdown",
   "metadata": {},
   "source": [
    "---"
   ]
  },
  {
   "cell_type": "markdown",
   "metadata": {},
   "source": [
    "`with` statement\n",
    "- When we have pre-cleanup action available\n",
    "\n",
    "#### using `try except`:\n",
    "```py\n",
    "try: \n",
    "    file = open(\"something.txt\", \"r\")\n",
    "    print(file.read())\n",
    "except:\n",
    "    print(\"Some exception occured\")\n",
    "finally:\n",
    "    file.close()\n",
    "```\n",
    "\n",
    "#### using `with`\n",
    "\n",
    "```py\n",
    "with open(\"something.txt\", \"r\") as f:\n",
    "    print(f.read())\n",
    "\n",
    "#Outside the with block, file closes itself\n",
    "```"
   ]
  },
  {
   "cell_type": "markdown",
   "metadata": {},
   "source": [
    "For creating our own with implmentation, we need 2 dunders:\n",
    "- enter (On entering the function)\n",
    "- exit (On exiting the function, also handles exception)"
   ]
  },
  {
   "cell_type": "code",
   "execution_count": 28,
   "metadata": {},
   "outputs": [],
   "source": [
    "class A:\n",
    "\n",
    "    def __init__(self, n) -> None:\n",
    "        self.n = n\n",
    "\n",
    "    def __str__(self) -> str:\n",
    "        return str(self.n)\n",
    "\n",
    "    def __enter__(self):\n",
    "        return self #Giving an instance of the object\n",
    "\n",
    "    def __exit__(self, *args):\n",
    "        '''\n",
    "        The args contain a tuple\n",
    "        args[0] -> Type of exception\n",
    "        args[1] -> exception\n",
    "        args[2] -> Traceback\n",
    "        '''\n",
    "\n",
    "        print(args)\n",
    "\n",
    "        #If we return true, the exception is not raised outside with block, if false, it is raised\n",
    "\n",
    "        return True"
   ]
  },
  {
   "cell_type": "code",
   "execution_count": 29,
   "metadata": {},
   "outputs": [
    {
     "name": "stdout",
     "output_type": "stream",
     "text": [
      "5\n",
      "(<class 'ZeroDivisionError'>, ZeroDivisionError('division by zero'), <traceback object at 0x00000167186A4400>)\n",
      "Outside with\n"
     ]
    }
   ],
   "source": [
    "with A(5) as a:\n",
    "    print(a)\n",
    "    print(10/0)\n",
    "\n",
    "print(\"Outside with\")"
   ]
  }
 ],
 "metadata": {
  "interpreter": {
   "hash": "2be5faf79681da6f2a61fdfdd5405d65d042280f7fba6178067603e3a2925119"
  },
  "kernelspec": {
   "display_name": "Python 3.10.0 64-bit",
   "language": "python",
   "name": "python3"
  },
  "language_info": {
   "codemirror_mode": {
    "name": "ipython",
    "version": 3
   },
   "file_extension": ".py",
   "mimetype": "text/x-python",
   "name": "python",
   "nbconvert_exporter": "python",
   "pygments_lexer": "ipython3",
   "version": "3.10.0"
  },
  "orig_nbformat": 4
 },
 "nbformat": 4,
 "nbformat_minor": 2
}
