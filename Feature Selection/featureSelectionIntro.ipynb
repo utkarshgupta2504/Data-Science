{
 "cells": [
  {
   "cell_type": "markdown",
   "metadata": {},
   "source": [
    "## Feature Selection\n",
    "- When given a dataset, we dont always need all the features, so we select the features that we need the most"
   ]
  },
  {
   "cell_type": "markdown",
   "metadata": {},
   "source": [
    "### Curse of dimensionality\n",
    "- After a certain _threshold_, the model performance starts degrading as we increase the features"
   ]
  },
  {
   "cell_type": "markdown",
   "metadata": {},
   "source": [
    "### Removing features\n",
    "- Some features that are irrelevant\n",
    "  - Weather, humidity in **Salary Prediction**\n",
    "- Some features that are redundant\n",
    "  - Height in cms, height in inches, we dont need both"
   ]
  },
  {
   "cell_type": "markdown",
   "metadata": {},
   "source": [
    "### Dimension Reduction\n",
    "- Feature Selection\n",
    "  - Selecting some features from the list\n",
    "  - a, c, g, i, j from a-z\n",
    "- Feature extraction\n",
    "  - Grouping more features together, to give more informational data\n",
    "  - ace, ghi, etc"
   ]
  },
  {
   "cell_type": "markdown",
   "metadata": {},
   "source": [
    "### Types of feature selection\n",
    "- Filter Method\n",
    "- Wrapper Method\n",
    "- Embedded Method"
   ]
  },
  {
   "cell_type": "markdown",
   "metadata": {},
   "source": [
    "#### Filter method\n",
    "- Checks relevance with o/p variable\n",
    "- Can be done using\n",
    "  - Chi square test\n",
    "  - ANOVA test\n",
    "  - Correlation coefficient\n",
    "- After this we select the best k features or more than some threshold"
   ]
  },
  {
   "cell_type": "markdown",
   "metadata": {},
   "source": [
    "#### Wrapper Method\n",
    "- Club features, and check if they increase accuracy, if yes, keep, else discard\n",
    "- Forward Selection\n",
    "  - Start with single\n",
    "  - Keep adding the others\n",
    "  - If better, keep it, else move on to the next\n",
    "- Backward Selection\n",
    "  - Start with all at once\n",
    "  - Find the least important with statistical tests\n",
    "  - Remove and check, iterate for all\n",
    "- Generally done on smaller datasets due to large number of iterations"
   ]
  },
  {
   "cell_type": "markdown",
   "metadata": {},
   "source": [
    "#### Embedded Method\n",
    "- Find accuracy for all permutations and combinations of the features\n",
    "- Avoided mostly, as hug overhead"
   ]
  },
  {
   "cell_type": "markdown",
   "metadata": {},
   "source": []
  }
 ],
 "metadata": {
  "language_info": {
   "name": "python"
  },
  "orig_nbformat": 4
 },
 "nbformat": 4,
 "nbformat_minor": 2
}
