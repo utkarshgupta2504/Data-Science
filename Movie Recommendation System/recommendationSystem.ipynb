{
 "cells": [
  {
   "cell_type": "markdown",
   "metadata": {},
   "source": [
    "## Recommendation system\n",
    "- Creating recommendation, on the basis of:\n",
    "  - Past experience of the entity\n",
    "  - Suggesting on the basis of similar entities\n",
    "- Generally required a **huge dataset**\n",
    "\n",
    "### Some examples\n",
    "- Youtube and other video sites\n",
    "- Amazon and other e-commerce"
   ]
  },
  {
   "cell_type": "markdown",
   "metadata": {},
   "source": [
    "### Content Based Recommendation\n",
    "- Based on the attributes of the items\n",
    "- Works on the similarities between them"
   ]
  },
  {
   "cell_type": "markdown",
   "metadata": {},
   "source": [
    "### Collaborative Recommendation\n",
    "- Uses the users behaviour\n",
    "- Suggests on basis of users similar to our user buying the same things"
   ]
  }
 ],
 "metadata": {
  "language_info": {
   "name": "python"
  },
  "orig_nbformat": 4
 },
 "nbformat": 4,
 "nbformat_minor": 2
}
