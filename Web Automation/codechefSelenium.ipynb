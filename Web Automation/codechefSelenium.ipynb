{
 "cells": [
  {
   "cell_type": "markdown",
   "metadata": {},
   "source": [
    "### Web Automation\n",
    "- Using selenium\n",
    "- Selenium is a library to imitate our web experience using an actual web browser driver like chrome / mozilla"
   ]
  },
  {
   "cell_type": "code",
   "execution_count": 12,
   "metadata": {},
   "outputs": [],
   "source": [
    "from selenium import webdriver #The webdriver that will traverse the web pages\n",
    "browser = webdriver.Chrome()"
   ]
  },
  {
   "cell_type": "code",
   "execution_count": 13,
   "metadata": {},
   "outputs": [],
   "source": [
    "#To open url\n",
    "browser.get(\"https://codechef.com\")"
   ]
  },
  {
   "cell_type": "code",
   "execution_count": 14,
   "metadata": {},
   "outputs": [
    {
     "name": "stderr",
     "output_type": "stream",
     "text": [
      "/var/folders/k6/_t1vyq6j1qg062k950q5mxsh0000gn/T/ipykernel_29929/1719380846.py:1: DeprecationWarning: find_element_by_* commands are deprecated. Please use find_element() instead\n",
      "  browser.find_element_by_class_name(\"m-login-button\").click()\n"
     ]
    }
   ],
   "source": [
    "browser.find_element_by_class_name(\"m-login-button\").click()"
   ]
  },
  {
   "cell_type": "code",
   "execution_count": 18,
   "metadata": {},
   "outputs": [
    {
     "name": "stderr",
     "output_type": "stream",
     "text": [
      "/var/folders/k6/_t1vyq6j1qg062k950q5mxsh0000gn/T/ipykernel_29929/667642300.py:1: DeprecationWarning: find_element_by_* commands are deprecated. Please use find_element() instead\n",
      "  usernameField = browser.find_element_by_xpath(\"/html/body/section/div[2]/div/div[3]/div[2]/form/div/div[1]/div/div/input\")\n",
      "/var/folders/k6/_t1vyq6j1qg062k950q5mxsh0000gn/T/ipykernel_29929/667642300.py:2: DeprecationWarning: find_element_by_* commands are deprecated. Please use find_element() instead\n",
      "  passwordField = browser.find_element_by_xpath(\"/html/body/section/div[2]/div/div[3]/div[2]/form/div/div[2]/div/div[2]/input\")\n"
     ]
    }
   ],
   "source": [
    "usernameField = browser.find_element_by_xpath(\"/html/body/section/div[2]/div/div[3]/div[2]/form/div/div[1]/div/div/input\")\n",
    "passwordField = browser.find_element_by_xpath(\"/html/body/section/div[2]/div/div[3]/div[2]/form/div/div[2]/div/div[2]/input\")"
   ]
  },
  {
   "cell_type": "code",
   "execution_count": 19,
   "metadata": {},
   "outputs": [],
   "source": [
    "usernameField.send_keys(\"utkarshg25\")\n",
    "passwordField.send_keys(\"Utkarsh@2504\")"
   ]
  },
  {
   "cell_type": "code",
   "execution_count": 21,
   "metadata": {},
   "outputs": [
    {
     "name": "stderr",
     "output_type": "stream",
     "text": [
      "/var/folders/k6/_t1vyq6j1qg062k950q5mxsh0000gn/T/ipykernel_29929/2158184233.py:1: DeprecationWarning: find_element_by_* commands are deprecated. Please use find_element() instead\n",
      "  browser.find_element_by_xpath(\"/html/body/section/div[2]/div/div[3]/div[2]/form/div/div[3]/input\").click()\n"
     ]
    }
   ],
   "source": [
    "browser.find_element_by_xpath(\"/html/body/section/div[2]/div/div[3]/div[2]/form/div/div[3]/input\").click()"
   ]
  },
  {
   "cell_type": "code",
   "execution_count": null,
   "metadata": {},
   "outputs": [],
   "source": []
  }
 ],
 "metadata": {
  "interpreter": {
   "hash": "aee8b7b246df8f9039afb4144a1f6fd8d2ca17a180786b69acc140d282b71a49"
  },
  "kernelspec": {
   "display_name": "Python 3.10.2 64-bit",
   "language": "python",
   "name": "python3"
  },
  "language_info": {
   "codemirror_mode": {
    "name": "ipython",
    "version": 3
   },
   "file_extension": ".py",
   "mimetype": "text/x-python",
   "name": "python",
   "nbconvert_exporter": "python",
   "pygments_lexer": "ipython3",
   "version": "3.10.2"
  },
  "orig_nbformat": 4
 },
 "nbformat": 4,
 "nbformat_minor": 2
}
