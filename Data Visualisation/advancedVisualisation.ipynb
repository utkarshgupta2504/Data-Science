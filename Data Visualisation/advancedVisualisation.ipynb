{
 "cells": [
  {
   "cell_type": "markdown",
   "metadata": {},
   "source": [
    "## Normal Distribution\n",
    "- Depends on Mean ($\\mu$) and Variance ($\\sigma$)\n",
    "- Makes a bell curve"
   ]
  },
  {
   "cell_type": "markdown",
   "metadata": {},
   "source": [
    "### Marks Example\n",
    "- Let there be $x$ students in a class, with marks between -$\\infty$ and $\\infty$, with the average ($\\mu$) of $60$, hence the bell curve will have the maximum value around 60"
   ]
  },
  {
   "cell_type": "markdown",
   "metadata": {},
   "source": [
    "### This can be visualised by a `Histogram`"
   ]
  },
  {
   "cell_type": "markdown",
   "metadata": {},
   "source": [
    "### Standard normal distribution\n",
    "- $\\mu = 0$\n",
    "- $\\sigma = 1$\n",
    "- The bell will lie on $x = 0$\n",
    "- Most values will lie between $-1$ and $1$\n",
    "\n",
    "#### In general:\n",
    "- $\\sigma =>$ Large $=>$ More Spread\n",
    "\n",
    "To convert any Normal distribution to a standard normal distribution:\n",
    "$$X_{SN} = \\frac{X - \\mu}{\\sigma}$$\n",
    "$$X =  X_{SN}\\cdot\\sigma + \\mu$$"
   ]
  },
  {
   "cell_type": "markdown",
   "metadata": {},
   "source": [
    "### Histogram"
   ]
  },
  {
   "cell_type": "code",
   "execution_count": 2,
   "metadata": {},
   "outputs": [],
   "source": [
    "import numpy as np"
   ]
  },
  {
   "cell_type": "code",
   "execution_count": 4,
   "metadata": {},
   "outputs": [
    {
     "name": "stdout",
     "output_type": "stream",
     "text": [
      "[-0.91750796 -1.53489057 -0.13397979 -0.136445   -0.32869124  0.07748064\n",
      "  0.87891114 -0.2806565  -1.19275479 -0.57242827  0.71212212  0.23922135\n",
      "  0.78725199 -0.96230908 -0.12936927 -0.31144617 -1.02523656  0.73991915\n",
      "  0.89517543 -1.07652727  0.5023626  -0.79185989 -0.42473928 -0.15047324\n",
      "  0.03026738 -1.28515074  1.80514109  2.03643289 -1.75010745 -0.69908981\n",
      " -0.71816953  1.14965873 -0.68354006 -0.77255055 -1.2604334   0.19322338\n",
      " -0.46298402 -0.13753548  0.53433508 -1.2656361   0.23099452 -2.03320664\n",
      " -0.50474304  0.68635106  0.41477376  1.03139278  0.41000581 -1.38695659\n",
      " -0.4724852   2.49005648 -0.39679518  0.19505266 -0.34753601  0.05182286\n",
      " -0.32061719 -1.56536097 -0.48740195 -1.04520113 -1.10431781 -0.68366257\n",
      "  2.58951736 -0.76900955 -0.76239154  1.02081675  1.07892398 -1.27391161\n",
      " -0.98014583  1.82222845 -1.28151857 -0.5274478   0.24725858 -0.48326122\n",
      " -0.31417454  0.24359068  0.12471025  0.74050295  1.22884857  1.27471647\n",
      "  2.50302486 -1.09855476 -0.248142    1.59147355 -1.25613129  0.14120961\n",
      " -0.24378249  0.94100413 -0.72942258 -1.44100464 -2.02335491 -1.39360773\n",
      " -0.57301521  1.16910728  2.27279368  1.03801068 -0.54658027 -0.11902926\n",
      " -1.24874493  1.18851835  0.35683436  0.70589509]\n"
     ]
    }
   ],
   "source": [
    "xsn = np.random.randn(100) # Gives standard normal distribution\n",
    "print(xsn)"
   ]
  },
  {
   "cell_type": "code",
   "execution_count": 5,
   "metadata": {},
   "outputs": [
    {
     "name": "stdout",
     "output_type": "stream",
     "text": [
      "[55.4124602  52.32554714 59.33010105 59.31777501 58.35654378 60.38740322\n",
      " 64.39455572 58.5967175  54.03622606 57.13785867 63.5606106  61.19610674\n",
      " 63.93625996 55.18845461 59.35315366 58.44276916 54.87381718 63.69959576\n",
      " 64.47587716 54.61736364 62.51181298 56.04070057 57.87630361 59.24763382\n",
      " 60.15133688 53.57424631 69.02570544 70.18216444 51.24946277 56.50455097\n",
      " 56.40915236 65.74829364 56.58229972 56.13724723 53.69783301 60.96611691\n",
      " 57.68507989 59.31232262 62.6716754  53.67181948 61.15497258 49.83396681\n",
      " 57.47628479 63.43175529 62.0738688  65.15696391 62.05002904 53.06521703\n",
      " 57.63757402 72.45028241 58.01602412 60.9752633  58.26231996 60.25911429\n",
      " 58.39691403 52.17319516 57.56299026 54.77399434 54.47841096 56.58168716\n",
      " 72.94758679 56.15495227 56.18804231 65.10408374 65.3946199  53.63044193\n",
      " 55.09927083 69.11114226 53.59240717 57.36276098 61.23629291 57.58369391\n",
      " 58.4291273  61.21795341 60.62355124 63.70251475 66.14424285 66.37358233\n",
      " 72.51512431 54.50722619 58.75929    67.95736773 53.71934353 60.70604806\n",
      " 58.78108753 64.70502064 56.35288708 52.79497681 49.88322544 53.03196137\n",
      " 57.13492395 65.84553641 71.36396842 65.19005342 57.26709866 59.4048537\n",
      " 53.75627533 65.94259176 61.7841718  63.52947543]\n"
     ]
    }
   ],
   "source": [
    "# Converting to a shifted Normal Distribution\n",
    "sigma = 5\n",
    "u = 60\n",
    "\n",
    "xn = xsn * 5 + 60\n",
    "print(xn)"
   ]
  },
  {
   "cell_type": "code",
   "execution_count": 7,
   "metadata": {},
   "outputs": [
    {
     "name": "stdout",
     "output_type": "stream",
     "text": [
      "[55. 52. 59. 59. 58. 60. 64. 59. 54. 57. 64. 61. 64. 55. 59. 58. 55. 64.\n",
      " 64. 55. 63. 56. 58. 59. 60. 54. 69. 70. 51. 57. 56. 66. 57. 56. 54. 61.\n",
      " 58. 59. 63. 54. 61. 50. 57. 63. 62. 65. 62. 53. 58. 72. 58. 61. 58. 60.\n",
      " 58. 52. 58. 55. 54. 57. 73. 56. 56. 65. 65. 54. 55. 69. 54. 57. 61. 58.\n",
      " 58. 61. 61. 64. 66. 66. 73. 55. 59. 68. 54. 61. 59. 65. 56. 53. 50. 53.\n",
      " 57. 66. 71. 65. 57. 59. 54. 66. 62. 64.]\n"
     ]
    }
   ],
   "source": [
    "#Rounding off for better visualisation\n",
    "xn = np.round(xn)\n",
    "print(xn)"
   ]
  },
  {
   "cell_type": "markdown",
   "metadata": {},
   "source": [
    "Plotting a histogram for the above:"
   ]
  },
  {
   "cell_type": "code",
   "execution_count": 8,
   "metadata": {},
   "outputs": [],
   "source": [
    "import matplotlib.pyplot as plt\n",
    "plt.style.use(\"dark_background\")"
   ]
  },
  {
   "cell_type": "code",
   "execution_count": 10,
   "metadata": {},
   "outputs": [
    {
     "data": {
      "image/png": "[encoded data removed]",
      "text/plain": [
       "<Figure size 432x288 with 1 Axes>"
      ]
     },
     "metadata": {},
     "output_type": "display_data"
    }
   ],
   "source": [
    "plt.hist(xn)\n",
    "\n",
    "plt.xlabel(\"Marks\")\n",
    "plt.ylabel(\"Probability\")\n",
    "\n",
    "plt.show()"
   ]
  },
  {
   "cell_type": "markdown",
   "metadata": {},
   "source": [
    "We can see that the maximum values are around 60, the mean we provided, and the value lie between 55 and 65 as the $\\sigma = 5$"
   ]
  },
  {
   "cell_type": "markdown",
   "metadata": {},
   "source": [
    "Comparing 2 Normal Distributions:"
   ]
  },
  {
   "cell_type": "code",
   "execution_count": 11,
   "metadata": {},
   "outputs": [],
   "source": [
    "xn2 = xsn*5 + 40 #Mean = 40\n",
    "xn2 = np.round(xn2)"
   ]
  },
  {
   "cell_type": "code",
   "execution_count": 13,
   "metadata": {},
   "outputs": [
    {
     "data": {
      "image/png": "[encoded data removed]",
      "text/plain": [
       "<Figure size 432x288 with 1 Axes>"
      ]
     },
     "metadata": {},
     "output_type": "display_data"
    }
   ],
   "source": [
    "plt.hist(xn)\n",
    "plt.hist(xn2)\n",
    "plt.show()"
   ]
  },
  {
   "cell_type": "code",
   "execution_count": 14,
   "metadata": {},
   "outputs": [
    {
     "data": {
      "image/png": "[encoded data removed]",
      "text/plain": [
       "<Figure size 432x288 with 1 Axes>"
      ]
     },
     "metadata": {},
     "output_type": "display_data"
    }
   ],
   "source": [
    "# We can use alpha to increase transparency and compare\n",
    "plt.hist(xn, alpha=0.8)\n",
    "plt.hist(xn2, alpha=0.8)\n",
    "plt.show()"
   ]
  },
  {
   "cell_type": "markdown",
   "metadata": {},
   "source": [
    "This demonstrates the shift by changing $\\mu$ and the spread is similar as the $\\sigma$ is same"
   ]
  }
 ],
 "metadata": {
  "interpreter": {
   "hash": "98590ff4fe04c8543246b2a01debd3de3c5ca9b666f43f1fa87d5110c692004c"
  },
  "kernelspec": {
   "display_name": "Python 3.10.2 64-bit",
   "language": "python",
   "name": "python3"
  },
  "language_info": {
   "codemirror_mode": {
    "name": "ipython",
    "version": 3
   },
   "file_extension": ".py",
   "mimetype": "text/x-python",
   "name": "python",
   "nbconvert_exporter": "python",
   "pygments_lexer": "ipython3",
   "version": "3.10.2"
  },
  "orig_nbformat": 4
 },
 "nbformat": 4,
 "nbformat_minor": 2
}
