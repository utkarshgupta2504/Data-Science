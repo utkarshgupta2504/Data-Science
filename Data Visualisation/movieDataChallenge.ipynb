{
 "cells": [
  {
   "cell_type": "markdown",
   "metadata": {},
   "source": [
    "### Given Movie Dataset, make a visualisation:\n",
    "- Length of movie titles on x axis\n",
    "- Frequency counts on y axis"
   ]
  },
  {
   "cell_type": "code",
   "execution_count": 1,
   "metadata": {},
   "outputs": [],
   "source": [
    "import pandas as pd\n",
    "import numpy as np\n",
    "import matplotlib.pyplot as plt\n",
    "\n",
    "plt.style.use(\"dark_background\")"
   ]
  },
  {
   "cell_type": "code",
   "execution_count": 2,
   "metadata": {},
   "outputs": [
    {
     "data": {
      "text/html": [
       "<div>\n",
       "<style scoped>\n",
       "    .dataframe tbody tr th:only-of-type {\n",
       "        vertical-align: middle;\n",
       "    }\n",
       "\n",
       "    .dataframe tbody tr th {\n",
       "        vertical-align: top;\n",
       "    }\n",
       "\n",
       "    .dataframe thead th {\n",
       "        text-align: right;\n",
       "    }\n",
       "</style>\n",
       "<table border=\"1\" class=\"dataframe\">\n",
       "  <thead>\n",
       "    <tr style=\"text-align: right;\">\n",
       "      <th></th>\n",
       "      <th>color</th>\n",
       "      <th>director_name</th>\n",
       "      <th>num_critic_for_reviews</th>\n",
       "      <th>duration</th>\n",
       "      <th>director_facebook_likes</th>\n",
       "      <th>actor_3_facebook_likes</th>\n",
       "      <th>actor_2_name</th>\n",
       "      <th>actor_1_facebook_likes</th>\n",
       "      <th>gross</th>\n",
       "      <th>genres</th>\n",
       "      <th>...</th>\n",
       "      <th>num_user_for_reviews</th>\n",
       "      <th>language</th>\n",
       "      <th>country</th>\n",
       "      <th>content_rating</th>\n",
       "      <th>budget</th>\n",
       "      <th>title_year</th>\n",
       "      <th>actor_2_facebook_likes</th>\n",
       "      <th>imdb_score</th>\n",
       "      <th>aspect_ratio</th>\n",
       "      <th>movie_facebook_likes</th>\n",
       "    </tr>\n",
       "  </thead>\n",
       "  <tbody>\n",
       "    <tr>\n",
       "      <th>0</th>\n",
       "      <td>Color</td>\n",
       "      <td>James Cameron</td>\n",
       "      <td>723.0</td>\n",
       "      <td>178.0</td>\n",
       "      <td>0.0</td>\n",
       "      <td>855.0</td>\n",
       "      <td>Joel David Moore</td>\n",
       "      <td>1000.0</td>\n",
       "      <td>760505847.0</td>\n",
       "      <td>Action|Adventure|Fantasy|Sci-Fi</td>\n",
       "      <td>...</td>\n",
       "      <td>3054.0</td>\n",
       "      <td>English</td>\n",
       "      <td>USA</td>\n",
       "      <td>PG-13</td>\n",
       "      <td>237000000.0</td>\n",
       "      <td>2009.0</td>\n",
       "      <td>936.0</td>\n",
       "      <td>7.9</td>\n",
       "      <td>1.78</td>\n",
       "      <td>33000</td>\n",
       "    </tr>\n",
       "    <tr>\n",
       "      <th>1</th>\n",
       "      <td>Color</td>\n",
       "      <td>Gore Verbinski</td>\n",
       "      <td>302.0</td>\n",
       "      <td>169.0</td>\n",
       "      <td>563.0</td>\n",
       "      <td>1000.0</td>\n",
       "      <td>Orlando Bloom</td>\n",
       "      <td>40000.0</td>\n",
       "      <td>309404152.0</td>\n",
       "      <td>Action|Adventure|Fantasy</td>\n",
       "      <td>...</td>\n",
       "      <td>1238.0</td>\n",
       "      <td>English</td>\n",
       "      <td>USA</td>\n",
       "      <td>PG-13</td>\n",
       "      <td>300000000.0</td>\n",
       "      <td>2007.0</td>\n",
       "      <td>5000.0</td>\n",
       "      <td>7.1</td>\n",
       "      <td>2.35</td>\n",
       "      <td>0</td>\n",
       "    </tr>\n",
       "    <tr>\n",
       "      <th>2</th>\n",
       "      <td>Color</td>\n",
       "      <td>Sam Mendes</td>\n",
       "      <td>602.0</td>\n",
       "      <td>148.0</td>\n",
       "      <td>0.0</td>\n",
       "      <td>161.0</td>\n",
       "      <td>Rory Kinnear</td>\n",
       "      <td>11000.0</td>\n",
       "      <td>200074175.0</td>\n",
       "      <td>Action|Adventure|Thriller</td>\n",
       "      <td>...</td>\n",
       "      <td>994.0</td>\n",
       "      <td>English</td>\n",
       "      <td>UK</td>\n",
       "      <td>PG-13</td>\n",
       "      <td>245000000.0</td>\n",
       "      <td>2015.0</td>\n",
       "      <td>393.0</td>\n",
       "      <td>6.8</td>\n",
       "      <td>2.35</td>\n",
       "      <td>85000</td>\n",
       "    </tr>\n",
       "    <tr>\n",
       "      <th>3</th>\n",
       "      <td>Color</td>\n",
       "      <td>Christopher Nolan</td>\n",
       "      <td>813.0</td>\n",
       "      <td>164.0</td>\n",
       "      <td>22000.0</td>\n",
       "      <td>23000.0</td>\n",
       "      <td>Christian Bale</td>\n",
       "      <td>27000.0</td>\n",
       "      <td>448130642.0</td>\n",
       "      <td>Action|Thriller</td>\n",
       "      <td>...</td>\n",
       "      <td>2701.0</td>\n",
       "      <td>English</td>\n",
       "      <td>USA</td>\n",
       "      <td>PG-13</td>\n",
       "      <td>250000000.0</td>\n",
       "      <td>2012.0</td>\n",
       "      <td>23000.0</td>\n",
       "      <td>8.5</td>\n",
       "      <td>2.35</td>\n",
       "      <td>164000</td>\n",
       "    </tr>\n",
       "    <tr>\n",
       "      <th>4</th>\n",
       "      <td>NaN</td>\n",
       "      <td>Doug Walker</td>\n",
       "      <td>NaN</td>\n",
       "      <td>NaN</td>\n",
       "      <td>131.0</td>\n",
       "      <td>NaN</td>\n",
       "      <td>Rob Walker</td>\n",
       "      <td>131.0</td>\n",
       "      <td>NaN</td>\n",
       "      <td>Documentary</td>\n",
       "      <td>...</td>\n",
       "      <td>NaN</td>\n",
       "      <td>NaN</td>\n",
       "      <td>NaN</td>\n",
       "      <td>NaN</td>\n",
       "      <td>NaN</td>\n",
       "      <td>NaN</td>\n",
       "      <td>12.0</td>\n",
       "      <td>7.1</td>\n",
       "      <td>NaN</td>\n",
       "      <td>0</td>\n",
       "    </tr>\n",
       "  </tbody>\n",
       "</table>\n",
       "<p>5 rows × 28 columns</p>\n",
       "</div>"
      ],
      "text/plain": [
       "   color      director_name  num_critic_for_reviews  duration  \\\n",
       "0  Color      James Cameron                   723.0     178.0   \n",
       "1  Color     Gore Verbinski                   302.0     169.0   \n",
       "2  Color         Sam Mendes                   602.0     148.0   \n",
       "3  Color  Christopher Nolan                   813.0     164.0   \n",
       "4    NaN        Doug Walker                     NaN       NaN   \n",
       "\n",
       "   director_facebook_likes  actor_3_facebook_likes      actor_2_name  \\\n",
       "0                      0.0                   855.0  Joel David Moore   \n",
       "1                    563.0                  1000.0     Orlando Bloom   \n",
       "2                      0.0                   161.0      Rory Kinnear   \n",
       "3                  22000.0                 23000.0    Christian Bale   \n",
       "4                    131.0                     NaN        Rob Walker   \n",
       "\n",
       "   actor_1_facebook_likes        gross                           genres  ...  \\\n",
       "0                  1000.0  760505847.0  Action|Adventure|Fantasy|Sci-Fi  ...   \n",
       "1                 40000.0  309404152.0         Action|Adventure|Fantasy  ...   \n",
       "2                 11000.0  200074175.0        Action|Adventure|Thriller  ...   \n",
       "3                 27000.0  448130642.0                  Action|Thriller  ...   \n",
       "4                   131.0          NaN                      Documentary  ...   \n",
       "\n",
       "  num_user_for_reviews language  country  content_rating       budget  \\\n",
       "0               3054.0  English      USA           PG-13  237000000.0   \n",
       "1               1238.0  English      USA           PG-13  300000000.0   \n",
       "2                994.0  English       UK           PG-13  245000000.0   \n",
       "3               2701.0  English      USA           PG-13  250000000.0   \n",
       "4                  NaN      NaN      NaN             NaN          NaN   \n",
       "\n",
       "   title_year actor_2_facebook_likes imdb_score  aspect_ratio  \\\n",
       "0      2009.0                  936.0        7.9          1.78   \n",
       "1      2007.0                 5000.0        7.1          2.35   \n",
       "2      2015.0                  393.0        6.8          2.35   \n",
       "3      2012.0                23000.0        8.5          2.35   \n",
       "4         NaN                   12.0        7.1           NaN   \n",
       "\n",
       "  movie_facebook_likes  \n",
       "0                33000  \n",
       "1                    0  \n",
       "2                85000  \n",
       "3               164000  \n",
       "4                    0  \n",
       "\n",
       "[5 rows x 28 columns]"
      ]
     },
     "execution_count": 2,
     "metadata": {},
     "output_type": "execute_result"
    }
   ],
   "source": [
    "#Reading the data\n",
    "df = pd.read_csv(\"movie_metadata.csv\")\n",
    "df.head()"
   ]
  },
  {
   "cell_type": "code",
   "execution_count": 3,
   "metadata": {},
   "outputs": [
    {
     "data": {
      "text/plain": [
       "Index(['color', 'director_name', 'num_critic_for_reviews', 'duration',\n",
       "       'director_facebook_likes', 'actor_3_facebook_likes', 'actor_2_name',\n",
       "       'actor_1_facebook_likes', 'gross', 'genres', 'actor_1_name',\n",
       "       'movie_title', 'num_voted_users', 'cast_total_facebook_likes',\n",
       "       'actor_3_name', 'facenumber_in_poster', 'plot_keywords',\n",
       "       'movie_imdb_link', 'num_user_for_reviews', 'language', 'country',\n",
       "       'content_rating', 'budget', 'title_year', 'actor_2_facebook_likes',\n",
       "       'imdb_score', 'aspect_ratio', 'movie_facebook_likes'],\n",
       "      dtype='object')"
      ]
     },
     "execution_count": 3,
     "metadata": {},
     "output_type": "execute_result"
    }
   ],
   "source": [
    "df.columns"
   ]
  },
  {
   "cell_type": "code",
   "execution_count": 7,
   "metadata": {},
   "outputs": [
    {
     "name": "stdout",
     "output_type": "stream",
     "text": [
      "                                            movie_title\n",
      "0                                               Avatar \n",
      "1             Pirates of the Caribbean: At World's End \n",
      "2                                              Spectre \n",
      "3                                The Dark Knight Rises \n",
      "4     Star Wars: Episode VII - The Force Awakens    ...\n",
      "...                                                 ...\n",
      "5038                           Signed Sealed Delivered \n",
      "5039                         The Following             \n",
      "5040                              A Plague So Pleasant \n",
      "5041                                  Shanghai Calling \n",
      "5042                                 My Date with Drew \n",
      "\n",
      "[5043 rows x 1 columns]\n"
     ]
    }
   ],
   "source": [
    "movieNames = df[[\"movie_title\"]]\n",
    "print(movieNames)"
   ]
  },
  {
   "cell_type": "code",
   "execution_count": 8,
   "metadata": {},
   "outputs": [
    {
     "data": {
      "text/plain": [
       "array([['Avatar\\xa0'],\n",
       "       [\"Pirates of the Caribbean: At World's End\\xa0\"],\n",
       "       ['Spectre\\xa0'],\n",
       "       ...,\n",
       "       ['A Plague So Pleasant\\xa0'],\n",
       "       ['Shanghai Calling\\xa0'],\n",
       "       ['My Date with Drew\\xa0']], dtype=object)"
      ]
     },
     "execution_count": 8,
     "metadata": {},
     "output_type": "execute_result"
    }
   ],
   "source": [
    "movieValues = movieNames.values\n",
    "movieValues"
   ]
  },
  {
   "cell_type": "code",
   "execution_count": 10,
   "metadata": {},
   "outputs": [
    {
     "name": "stdout",
     "output_type": "stream",
     "text": [
      "[7, 41, 8, 22, 55, 12, 13, 8, 24, 39, 35, 17, 18, 43, 16, 13, 41, 13, 44, 15, 42, 23, 11, 36, 19, 10, 8, 27, 11, 15, 8, 13, 11, 20, 22, 20, 36, 32, 26, 25, 13, 7, 14, 12, 21, 10, 12, 27, 24, 22, 17, 36, 12, 31, 51, 18, 6, 17, 7, 12, 5, 18, 18, 21, 63, 18, 16, 3, 20, 9, 5, 15, 38, 14, 14, 17, 11, 28, 11, 16, 11, 28, 11, 31, 11, 9, 36, 20, 13, 11, 15, 18, 29, 25, 35, 24, 13, 10, 20, 34, 25, 36, 19, 38, 26, 9, 32, 16, 9, 19, 57, 13, 13, 10, 42, 36, 8, 12, 34, 12, 14, 28, 47, 25, 23, 7, 20, 21, 19, 16, 5, 5, 8, 20, 13, 35, 12, 21, 10, 16, 19, 24, 17, 16, 13, 4, 22, 5, 35, 16, 13, 11, 16, 8, 16, 37, 22, 23, 17, 23, 10, 11, 27, 14, 8, 9, 16, 5, 22, 7, 34, 35, 24, 48, 42, 13, 20, 23, 8, 13, 6, 6, 23, 21, 14, 8, 32, 42, 5, 18, 12, 14, 5, 5, 25, 41, 10, 12, 9, 46, 40, 9, 38, 9, 20, 55, 45, 38, 18, 6, 8, 10, 35, 20, 13, 17, 18, 15, 31, 23, 23, 18, 39, 11, 12, 13, 32, 11, 16, 8, 26, 8, 12, 16, 15, 9, 45, 45, 15, 14, 42, 11, 29, 12, 27, 29, 8, 13, 49, 15, 20, 12, 20, 12, 15, 17, 10, 12, 19, 17, 23, 23, 11, 18, 10, 11, 13, 24, 13, 22, 50, 28, 4, 19, 9, 18, 14, 26, 12, 24, 11, 15, 22, 10, 16, 40, 14, 19, 27, 15, 18, 10, 27, 15, 15, 7, 17, 28, 25, 18, 18, 7, 26, 4, 5, 12, 12, 14, 24, 15, 18, 12, 46, 9, 9, 16, 17, 18, 12, 16, 24, 29, 11, 18, 21, 18, 18, 19, 10, 19, 16, 13, 18, 19, 22, 27, 11, 17, 13, 46, 38, 12, 24, 14, 18, 31, 26, 23, 10, 16, 17, 51, 13, 12, 12, 12, 18, 34, 31, 32, 17, 13, 6, 15, 32, 26, 16, 8, 26, 39, 9, 30, 7, 29, 20, 8, 11, 16, 31, 43, 17, 10, 9, 16, 4, 17, 8, 16, 21, 15, 20, 15, 21, 11, 8, 25, 10, 11, 21, 14, 15, 21, 19, 10, 21, 11, 15, 12, 12, 19, 17, 17, 12, 10, 19, 12, 17, 20, 38, 17, 15, 18, 14, 14, 28, 9, 31, 11, 6, 6, 10, 41, 7, 28, 7, 12, 15, 16, 20, 17, 21, 15, 15, 14, 16, 12, 6, 17, 37, 12, 10, 23, 15, 17, 7, 9, 16, 18, 16, 22, 8, 10, 14, 16, 8, 13, 10, 17, 30, 18, 5, 22, 10, 33, 10, 14, 25, 8, 21, 22, 14, 17, 17, 10, 20, 21, 13, 19, 14, 10, 9, 11, 14, 9, 26, 18, 29, 5, 9, 12, 22, 22, 11, 26, 7, 19, 8, 15, 17, 14, 33, 36, 11, 8, 14, 17, 18, 13, 37, 24, 38, 16, 17, 30, 11, 16, 6, 7, 9, 22, 15, 10, 24, 17, 15, 10, 13, 24, 15, 15, 21, 11, 11, 17, 8, 7, 17, 8, 24, 10, 14, 8, 13, 18, 10, 8, 11, 19, 8, 9, 11, 22, 12, 8, 13, 11, 7, 22, 12, 13, 12, 44, 15, 11, 8, 19, 13, 7, 13, 12, 16, 6, 8, 5, 14, 4, 41, 7, 21, 5, 9, 11, 9, 26, 12, 18, 24, 40, 17, 19, 24, 19, 9, 5, 10, 18, 10, 32, 15, 10, 9, 21, 12, 12, 5, 6, 22, 13, 11, 13, 11, 26, 10, 14, 32, 9, 38, 17, 12, 23, 21, 27, 10, 14, 12, 6, 6, 12, 10, 12, 17, 13, 20, 32, 11, 30, 12, 16, 20, 15, 16, 8, 13, 8, 11, 10, 13, 19, 15, 16, 14, 18, 9, 9, 14, 12, 13, 8, 19, 16, 13, 15, 6, 6, 15, 15, 9, 15, 27, 11, 24, 14, 27, 11, 16, 24, 12, 14, 16, 13, 8, 29, 14, 8, 33, 28, 10, 14, 11, 25, 13, 10, 6, 23, 14, 24, 18, 16, 4, 4, 17, 12, 15, 10, 15, 10, 20, 10, 23, 16, 20, 15, 7, 12, 16, 17, 5, 16, 16, 23, 18, 14, 15, 4, 17, 20, 11, 18, 10, 13, 14, 11, 10, 14, 9, 14, 12, 15, 16, 19, 8, 15, 11, 11, 9, 20, 23, 32, 11, 30, 26, 4, 18, 20, 8, 14, 16, 15, 40, 14, 15, 9, 9, 14, 10, 20, 13, 10, 19, 20, 23, 17, 10, 13, 15, 15, 12, 27, 14, 11, 24, 7, 33, 14, 13, 10, 17, 8, 16, 10, 14, 38, 10, 11, 5, 9, 11, 10, 46, 15, 44, 15, 9, 9, 16, 11, 39, 17, 35, 10, 13, 17, 32, 15, 25, 10, 29, 21, 14, 12, 17, 33, 27, 29, 13, 13, 13, 24, 17, 11, 9, 20, 6, 21, 17, 17, 11, 7, 14, 18, 13, 25, 11, 11, 15, 18, 10, 26, 18, 13, 18, 14, 19, 22, 22, 11, 8, 6, 6, 27, 11, 10, 11, 9, 13, 9, 29, 11, 15, 8, 25, 26, 9, 18, 11, 13, 20, 13, 10, 23, 7, 12, 9, 13, 19, 24, 14, 19, 12, 6, 19, 6, 10, 14, 21, 11, 21, 20, 11, 8, 10, 20, 17, 13, 11, 16, 21, 18, 14, 16, 7, 21, 17, 19, 9, 15, 28, 6, 22, 30, 14, 4, 19, 12, 34, 10, 8, 16, 29, 15, 51, 8, 21, 8, 13, 15, 11, 8, 6, 16, 8, 18, 13, 21, 9, 26, 10, 9, 9, 23, 15, 17, 24, 15, 20, 17, 31, 11, 17, 8, 9, 17, 9, 15, 10, 9, 12, 17, 17, 15, 15, 22, 26, 10, 15, 26, 34, 12, 17, 44, 10, 14, 15, 21, 29, 11, 10, 10, 18, 10, 16, 16, 9, 6, 11, 18, 17, 20, 15, 35, 20, 23, 17, 14, 17, 14, 40, 14, 12, 9, 15, 19, 10, 21, 7, 5, 6, 20, 17, 12, 15, 26, 12, 38, 8, 22, 32, 13, 8, 35, 14, 8, 19, 11, 16, 12, 9, 9, 6, 15, 10, 16, 13, 8, 13, 14, 6, 11, 24, 25, 12, 8, 21, 12, 25, 22, 9, 25, 10, 19, 10, 16, 7, 16, 8, 14, 18, 35, 41, 18, 11, 16, 14, 15, 10, 13, 13, 14, 12, 6, 13, 15, 9, 12, 14, 13, 10, 15, 8, 21, 20, 37, 11, 26, 8, 13, 15, 27, 8, 9, 15, 14, 5, 20, 19, 10, 13, 16, 13, 20, 11, 14, 6, 12, 22, 6, 17, 12, 20, 27, 18, 12, 28, 25, 18, 22, 11, 5, 13, 18, 9, 27, 10, 10, 14, 22, 20, 18, 8, 10, 19, 9, 18, 13, 15, 13, 12, 17, 10, 9, 10, 20, 12, 25, 23, 6, 16, 16, 11, 18, 12, 5, 18, 14, 18, 26, 8, 7, 29, 16, 14, 16, 15, 13, 15, 16, 13, 16, 27, 5, 21, 24, 15, 21, 14, 22, 16, 19, 28, 14, 9, 28, 9, 22, 14, 3, 24, 19, 12, 11, 13, 25, 4, 9, 14, 16, 12, 4, 20, 12, 9, 9, 16, 22, 16, 19, 21, 15, 15, 6, 26, 19, 8, 13, 18, 25, 11, 21, 10, 13, 14, 15, 17, 30, 14, 12, 14, 8, 8, 13, 29, 12, 19, 17, 5, 15, 9, 4, 10, 9, 11, 20, 17, 15, 12, 19, 16, 34, 11, 34, 14, 23, 15, 5, 16, 19, 25, 14, 22, 15, 12, 13, 16, 11, 35, 16, 15, 7, 10, 10, 17, 14, 11, 15, 7, 18, 26, 28, 7, 16, 6, 12, 26, 11, 41, 20, 7, 9, 18, 30, 9, 9, 12, 14, 9, 17, 6, 11, 35, 10, 8, 18, 20, 13, 19, 12, 19, 14, 9, 25, 25, 18, 25, 14, 9, 18, 13, 13, 10, 19, 15, 11, 34, 23, 16, 20, 34, 28, 14, 7, 14, 23, 11, 13, 15, 17, 10, 9, 13, 10, 8, 11, 14, 14, 11, 17, 12, 13, 6, 9, 37, 19, 13, 5, 9, 8, 17, 13, 9, 7, 12, 18, 17, 10, 22, 21, 15, 15, 12, 6, 22, 23, 9, 8, 16, 13, 14, 13, 9, 38, 7, 17, 16, 15, 22, 9, 16, 10, 22, 30, 15, 10, 3, 11, 10, 20, 18, 9, 9, 8, 26, 9, 25, 12, 5, 6, 22, 29, 17, 10, 11, 9, 31, 15, 17, 15, 14, 14, 12, 16, 10, 8, 17, 19, 26, 13, 19, 15, 12, 10, 19, 13, 7, 9, 8, 20, 11, 12, 20, 13, 12, 11, 40, 6, 21, 6, 31, 15, 11, 10, 8, 12, 16, 12, 7, 13, 12, 18, 7, 10, 16, 5, 6, 16, 23, 31, 18, 17, 19, 9, 17, 10, 9, 10, 19, 5, 9, 19, 12, 19, 12, 20, 23, 13, 19, 25, 20, 9, 11, 9, 20, 16, 20, 21, 13, 13, 7, 6, 17, 21, 20, 18, 30, 5, 15, 12, 18, 31, 17, 19, 18, 12, 13, 23, 5, 12, 43, 9, 11, 11, 4, 11, 10, 9, 12, 12, 16, 9, 13, 7, 16, 34, 12, 6, 14, 37, 5, 34, 22, 14, 23, 19, 22, 9, 19, 6, 32, 17, 17, 16, 22, 15, 19, 19, 9, 14, 7, 10, 25, 19, 14, 10, 13, 9, 11, 8, 10, 15, 10, 6, 8, 23, 20, 25, 24, 33, 18, 31, 21, 21, 6, 11, 32, 13, 20, 13, 13, 11, 26, 28, 20, 20, 14, 14, 12, 7, 14, 5, 13, 26, 32, 14, 10, 12, 11, 17, 15, 18, 12, 5, 20, 32, 10, 35, 17, 29, 16, 15, 10, 18, 11, 18, 13, 11, 8, 9, 16, 19, 17, 11, 11, 22, 17, 23, 18, 13, 16, 23, 6, 23, 28, 13, 7, 14, 22, 14, 36, 2, 13, 18, 16, 40, 9, 10, 15, 11, 23, 21, 8, 18, 25, 8, 20, 12, 23, 24, 5, 20, 19, 11, 14, 20, 7, 16, 16, 9, 12, 12, 13, 14, 15, 10, 22, 15, 8, 16, 30, 19, 36, 17, 20, 14, 10, 6, 28, 14, 23, 15, 11, 12, 12, 19, 59, 5, 16, 10, 21, 15, 21, 16, 16, 17, 14, 14, 16, 14, 23, 18, 14, 12, 32, 13, 9, 12, 8, 15, 11, 8, 23, 37, 18, 20, 24, 27, 9, 12, 14, 17, 8, 17, 20, 22, 21, 9, 11, 19, 12, 8, 10, 11, 12, 16, 9, 19, 13, 60, 18, 13, 8, 15, 17, 11, 17, 13, 16, 18, 14, 15, 20, 32, 7, 38, 11, 41, 15, 10, 11, 19, 29, 19, 19, 10, 22, 39, 39, 16, 15, 19, 40, 13, 12, 12, 20, 16, 10, 22, 10, 12, 29, 13, 16, 8, 13, 14, 42, 14, 11, 9, 12, 19, 14, 16, 21, 14, 23, 20, 28, 17, 18, 31, 11, 11, 46, 17, 8, 20, 27, 7, 12, 16, 14, 10, 9, 39, 15, 13, 10, 21, 32, 15, 29, 31, 16, 8, 10, 22, 26, 15, 9, 12, 3, 6, 15, 14, 17, 9, 17, 33, 4, 17, 21, 26, 12, 56, 17, 23, 11, 22, 9, 38, 18, 20, 10, 15, 9, 20, 14, 21, 18, 18, 9, 14, 38, 11, 17, 13, 9, 16, 17, 11, 12, 20, 27, 16, 19, 38, 19, 16, 12, 19, 10, 18, 20, 16, 19, 10, 14, 19, 41, 11, 12, 10, 16, 18, 12, 11, 12, 25, 32, 8, 12, 21, 13, 16, 16, 12, 17, 28, 10, 11, 28, 4, 17, 9, 15, 21, 24, 28, 30, 8, 10, 20, 16, 19, 13, 17, 7, 8, 15, 15, 10, 10, 32, 16, 17, 7, 28, 15, 8, 16, 11, 10, 8, 17, 15, 18, 11, 9, 11, 9, 7, 14, 16, 27, 18, 10, 14, 10, 11, 8, 21, 30, 15, 20, 15, 41, 36, 18, 11, 31, 11, 14, 9, 9, 15, 8, 19, 12, 30, 13, 12, 9, 15, 21, 21, 10, 11, 16, 38, 13, 27, 12, 27, 12, 18, 30, 19, 8, 16, 20, 29, 11, 15, 17, 29, 27, 7, 21, 11, 10, 13, 47, 9, 36, 18, 18, 12, 20, 4, 16, 9, 43, 18, 16, 9, 8, 18, 14, 14, 22, 37, 22, 19, 9, 6, 18, 12, 25, 5, 11, 18, 6, 29, 17, 11, 14, 30, 11, 7, 25, 8, 9, 11, 11, 9, 15, 12, 31, 13, 20, 20, 17, 31, 14, 31, 11, 16, 14, 24, 10, 19, 18, 10, 26, 13, 16, 25, 14, 11, 12, 12, 10, 21, 9, 6, 8, 19, 16, 20, 15, 10, 18, 8, 34, 19, 33, 9, 24, 16, 18, 16, 16, 19, 25, 11, 11, 15, 26, 6, 11, 36, 9, 24, 31, 35, 6, 21, 24, 25, 14, 11, 7, 24, 14, 18, 6, 10, 15, 14, 12, 13, 16, 6, 14, 17, 9, 27, 20, 14, 27, 22, 9, 11, 21, 6, 18, 10, 12, 17, 7, 4, 28, 11, 20, 10, 17, 13, 31, 27, 16, 15, 13, 7, 14, 6, 26, 6, 27, 18, 8, 14, 17, 5, 6, 11, 35, 12, 15, 9, 14, 16, 15, 13, 38, 10, 13, 16, 11, 12, 23, 12, 11, 19, 16, 13, 9, 7, 11, 6, 10, 9, 36, 7, 22, 13, 13, 18, 10, 12, 14, 14, 22, 27, 20, 23, 22, 15, 21, 18, 16, 9, 10, 9, 12, 6, 25, 29, 21, 15, 8, 28, 20, 8, 5, 20, 22, 24, 19, 16, 11, 11, 10, 10, 19, 15, 23, 9, 21, 15, 6, 16, 25, 19, 15, 17, 29, 8, 23, 17, 14, 14, 7, 19, 23, 18, 14, 8, 19, 12, 11, 19, 17, 18, 18, 9, 6, 20, 14, 16, 15, 22, 19, 21, 18, 11, 21, 16, 8, 8, 12, 26, 10, 44, 11, 9, 24, 16, 9, 4, 40, 25, 14, 31, 12, 11, 10, 43, 10, 9, 10, 24, 15, 9, 18, 17, 27, 19, 12, 12, 19, 7, 16, 12, 19, 22, 27, 13, 11, 13, 19, 29, 30, 12, 14, 10, 11, 15, 10, 10, 29, 21, 16, 15, 12, 12, 22, 12, 17, 15, 31, 23, 10, 9, 4, 84, 15, 36, 27, 27, 12, 17, 31, 10, 44, 27, 36, 9, 8, 11, 11, 21, 13, 21, 22, 48, 13, 10, 6, 6, 9, 8, 12, 9, 19, 20, 12, 13, 22, 5, 10, 18, 13, 17, 15, 16, 11, 24, 16, 30, 21, 9, 8, 14, 15, 20, 12, 9, 13, 17, 8, 10, 33, 11, 10, 7, 18, 17, 14, 16, 26, 17, 12, 11, 15, 28, 14, 19, 21, 15, 16, 11, 12, 9, 10, 11, 9, 19, 7, 23, 12, 13, 7, 15, 11, 15, 11, 7, 13, 32, 14, 9, 9, 10, 5, 10, 21, 13, 26, 22, 13, 23, 8, 20, 34, 15, 15, 4, 14, 13, 14, 5, 38, 37, 18, 18, 10, 17, 16, 33, 13, 15, 30, 18, 16, 5, 16, 23, 16, 15, 16, 15, 8, 42, 16, 12, 22, 14, 13, 22, 19, 14, 24, 12, 10, 14, 11, 11, 17, 43, 18, 23, 16, 27, 13, 9, 13, 9, 14, 9, 10, 25, 24, 9, 15, 15, 16, 14, 11, 12, 12, 12, 26, 13, 21, 12, 7, 6, 17, 18, 11, 27, 6, 14, 19, 7, 11, 22, 5, 15, 6, 20, 5, 13, 13, 23, 7, 8, 10, 7, 8, 18, 11, 17, 8, 8, 31, 16, 18, 6, 34, 24, 17, 11, 8, 19, 17, 22, 21, 5, 10, 28, 12, 10, 12, 23, 13, 19, 22, 13, 16, 12, 25, 7, 8, 12, 30, 9, 23, 13, 6, 11, 25, 21, 19, 19, 13, 5, 27, 17, 24, 20, 19, 19, 6, 37, 27, 15, 26, 22, 18, 20, 16, 31, 10, 12, 18, 23, 14, 15, 7, 23, 25, 17, 11, 6, 15, 20, 27, 17, 20, 16, 12, 20, 18, 20, 55, 6, 20, 9, 8, 8, 17, 11, 9, 10, 17, 25, 28, 11, 14, 7, 17, 26, 17, 17, 10, 15, 18, 10, 32, 16, 5, 10, 8, 11, 10, 14, 15, 13, 14, 15, 20, 11, 17, 20, 35, 16, 24, 14, 26, 17, 12, 10, 18, 11, 13, 40, 13, 17, 11, 10, 10, 15, 24, 15, 18, 20, 15, 27, 7, 9, 44, 43, 18, 13, 14, 15, 15, 12, 8, 11, 10, 20, 17, 13, 29, 20, 14, 27, 14, 20, 15, 12, 15, 21, 26, 13, 19, 11, 11, 10, 14, 27, 15, 24, 20, 25, 21, 19, 18, 19, 19, 19, 8, 19, 9, 23, 8, 13, 6, 16, 9, 34, 16, 7, 19, 13, 15, 19, 12, 9, 11, 11, 6, 19, 15, 9, 13, 8, 19, 29, 9, 16, 23, 20, 7, 18, 24, 23, 9, 15, 15, 22, 19, 31, 11, 8, 23, 20, 46, 21, 22, 11, 12, 17, 27, 12, 16, 13, 21, 9, 15, 14, 12, 16, 15, 13, 9, 11, 21, 23, 14, 16, 22, 21, 4, 5, 11, 11, 5, 42, 12, 3, 11, 14, 10, 17, 23, 10, 26, 6, 9, 9, 15, 32, 16, 9, 10, 18, 17, 31, 9, 19, 39, 26, 15, 15, 19, 13, 5, 20, 21, 11, 13, 22, 23, 31, 19, 18, 12, 13, 8, 12, 21, 35, 17, 13, 5, 13, 19, 17, 17, 11, 32, 27, 9, 8, 13, 8, 32, 13, 42, 10, 6, 13, 11, 10, 7, 15, 11, 8, 24, 9, 27, 14, 6, 23, 23, 9, 9, 9, 15, 41, 10, 20, 21, 11, 12, 16, 9, 35, 22, 12, 6, 19, 16, 12, 23, 31, 26, 9, 10, 14, 11, 24, 10, 16, 17, 8, 9, 23, 10, 22, 21, 7, 11, 11, 12, 9, 27, 9, 17, 17, 34, 7, 5, 13, 5, 7, 8, 22, 14, 25, 18, 6, 9, 23, 33, 7, 23, 5, 25, 24, 14, 9, 22, 19, 7, 16, 13, 9, 19, 23, 9, 35, 14, 15, 6, 35, 12, 19, 16, 10, 11, 13, 14, 12, 19, 17, 17, 7, 29, 24, 13, 13, 9, 19, 9, 13, 9, 15, 8, 8, 8, 14, 7, 17, 9, 28, 37, 11, 9, 17, 20, 2, 26, 19, 21, 18, 12, 14, 6, 19, 4, 10, 23, 17, 22, 9, 22, 27, 21, 19, 19, 21, 10, 15, 47, 18, 18, 11, 8, 8, 12, 25, 15, 9, 7, 12, 23, 19, 16, 17, 11, 14, 17, 33, 8, 31, 21, 27, 9, 8, 6, 18, 21, 16, 7, 18, 35, 6, 19, 25, 11, 23, 8, 22, 18, 14, 14, 14, 11, 8, 10, 16, 25, 11, 16, 12, 9, 8, 38, 32, 16, 17, 25, 8, 11, 16, 14, 4, 17, 26, 32, 22, 21, 12, 11, 9, 17, 12, 13, 19, 9, 16, 10, 12, 10, 20, 9, 12, 19, 42, 13, 18, 19, 15, 14, 15, 19, 12, 10, 17, 11, 15, 12, 12, 14, 24, 10, 30, 18, 10, 6, 19, 7, 17, 32, 11, 11, 7, 18, 14, 7, 8, 18, 11, 20, 7, 18, 11, 12, 15, 21, 20, 11, 11, 10, 15, 16, 12, 10, 31, 11, 17, 25, 21, 10, 7, 22, 34, 24, 26, 12, 42, 14, 13, 11, 11, 13, 20, 16, 19, 9, 7, 25, 31, 23, 15, 17, 18, 27, 17, 10, 16, 29, 9, 8, 14, 14, 12, 15, 20, 8, 6, 16, 8, 32, 7, 12, 18, 12, 22, 6, 12, 8, 17, 6, 29, 13, 20, 12, 10, 14, 11, 13, 13, 6, 19, 12, 34, 14, 12, 15, 16, 23, 8, 12, 13, 19, 15, 4, 18, 39, 16, 7, 14, 9, 16, 12, 27, 25, 14, 9, 15, 18, 11, 6, 17, 13, 41, 22, 24, 17, 39, 13, 16, 8, 6, 38, 11, 14, 12, 9, 14, 11, 12, 9, 13, 9, 8, 49, 8, 12, 16, 10, 12, 6, 16, 32, 24, 15, 10, 24, 27, 13, 17, 13, 11, 19, 7, 21, 12, 17, 15, 21, 12, 34, 6, 8, 10, 20, 16, 6, 23, 32, 23, 14, 15, 20, 11, 12, 8, 16, 14, 16, 39, 35, 12, 7, 12, 22, 5, 15, 8, 13, 12, 21, 10, 13, 8, 25, 13, 27, 17, 35, 12, 16, 20, 12, 19, 15, 9, 22, 15, 5, 24, 12, 10, 30, 12, 11, 6, 6, 30, 41, 8, 14, 17, 11, 14, 32, 20, 14, 19, 10, 20, 13, 22, 16, 13, 9, 24, 5, 16, 19, 23, 8, 21, 12, 8, 12, 6, 13, 15, 14, 11, 9, 9, 15, 12, 13, 15, 5, 15, 21, 14, 11, 19, 10, 11, 15, 17, 12, 18, 18, 17, 27, 7, 10, 10, 18, 12, 28, 15, 12, 26, 12, 23, 20, 37, 5, 12, 8, 22, 11, 14, 8, 8, 18, 13, 30, 19, 18, 19, 18, 13, 19, 25, 23, 11, 8, 6, 18, 11, 13, 28, 21, 16, 10, 17, 13, 14, 10, 31, 22, 7, 14, 6, 16, 9, 14, 17, 5, 8, 20, 8, 6, 11, 54, 11, 27, 19, 22, 22, 20, 15, 17, 6, 31, 10, 21, 17, 12, 10, 13, 16, 9, 17, 16, 28, 3, 19, 21, 5, 18, 6, 11, 41, 9, 31, 9, 14, 8, 8, 15, 16, 18, 30, 21, 9, 7, 8, 16, 35, 13, 16, 28, 16, 11, 13, 9, 19, 45, 26, 13, 16, 13, 21, 12, 15, 13, 14, 13, 24, 14, 20, 26, 12, 7, 44, 8, 15, 10, 17, 12, 10, 8, 20, 13, 11, 16, 20, 26, 26, 16, 16, 16, 10, 26, 15, 13, 24, 15, 42, 16, 19, 13, 31, 19, 12, 6, 13, 13, 6, 11, 10, 9, 20, 13, 17, 11, 20, 9, 18, 18, 13, 10, 19, 14, 17, 29, 21, 15, 10, 12, 8, 17, 10, 17, 27, 6, 8, 20, 12, 5, 9, 11, 15, 11, 19, 12, 9, 13, 5, 16, 8, 20, 8, 23, 12, 9, 12, 11, 18, 14, 21, 7, 20, 19, 11, 22, 6, 44, 9, 26, 22, 9, 31, 35, 8, 29, 37, 17, 19, 19, 8, 7, 10, 13, 17, 14, 25, 17, 12, 15, 18, 5, 17, 2, 19, 9, 12, 12, 13, 11, 49, 25, 16, 38, 18, 18, 30, 10, 41, 17, 6, 18, 10, 18, 10, 16, 18, 22, 18, 19, 18, 19, 7, 24, 17, 13, 23, 4, 14, 23, 29, 5, 5, 27, 43, 20, 16, 13, 34, 19, 21, 19, 12, 14, 14, 19, 12, 14, 11, 15, 34, 14, 17, 18, 29, 16, 24, 14, 7, 12, 7, 10, 9, 12, 25, 8, 12, 12, 31, 22, 10, 18, 11, 11, 14, 21, 19, 12, 14, 21, 16, 12, 23, 29, 13, 12, 14, 7, 39, 13, 14, 16, 23, 30, 28, 18, 16, 12, 6, 13, 8, 18, 15, 13, 16, 15, 16, 28, 29, 10, 10, 29, 6, 20, 11, 6, 9, 16, 13, 21, 10, 5, 20, 15, 16, 13, 7, 11, 13, 11, 6, 32, 48, 13, 8, 33, 14, 12, 11, 11, 12, 4, 6, 4, 20, 27, 30, 12, 16, 8, 21, 25, 20, 11, 27, 23, 15, 7, 18, 26, 30, 15, 18, 8, 25, 23, 10, 17, 29, 26, 8, 6, 19, 9, 10, 11, 12, 19, 15, 16, 14, 18, 24, 6, 19, 11, 10, 16, 11, 20, 12, 12, 12, 10, 11, 8, 15, 22, 7, 17, 29, 12, 4, 14, 7, 19, 14, 16, 6, 21, 13, 6, 21, 19, 11, 32, 34, 13, 18, 22, 8, 36, 5, 12, 14, 15, 9, 15, 11, 20, 17, 8, 22, 8, 19, 14, 13, 14, 19, 11, 14, 9, 11, 15, 17, 8, 20, 16, 15, 10, 17, 7, 18, 19, 12, 26, 14, 16, 7, 7, 10, 18, 14, 18, 25, 16, 6, 13, 12, 10, 18, 12, 11, 10, 15, 9, 17, 13, 7, 23, 5, 40, 15, 38, 13, 12, 16, 13, 22, 12, 7, 6, 9, 12, 14, 8, 14, 9, 18, 6, 14, 17, 24, 10, 16, 33, 5, 20, 10, 6, 13, 11, 10, 22, 14, 29, 22, 18, 22, 12, 46, 19, 10, 9, 32, 22, 31, 8, 21, 37, 29, 16, 12, 14, 37, 13, 29, 10, 13, 13, 13, 22, 9, 26, 10, 11, 16, 14, 12, 22, 23, 31, 6, 13, 8, 27, 12, 36, 24, 24, 15, 39, 11, 9, 11, 7, 10, 21, 5, 7, 15, 20, 10, 8, 19, 10, 20, 21, 13, 22, 15, 36, 12, 22, 13, 11, 13, 13, 11, 12, 8, 29, 20, 13, 12, 10, 19, 87, 32, 12, 20, 25, 17, 8, 7, 11, 17, 13, 16, 22, 12, 19, 9, 13, 9, 13, 20, 10, 14, 17, 40, 17, 19, 18, 21, 12, 19, 11, 18, 15, 10, 16, 16, 35, 4, 8, 12, 21, 14, 11, 17, 13, 20, 24, 16, 22, 13, 19, 35, 35, 4, 27, 21, 13, 15, 13, 11, 12, 11, 14, 19, 20, 53, 11, 5, 30, 33, 19, 26, 26, 8, 13, 6, 15, 6, 10, 15, 6, 10, 22, 16, 15, 15, 11, 22, 10, 16, 12, 25, 9, 22, 7, 25, 33, 19, 16, 13, 23, 5, 21, 17, 28, 28, 6, 7, 11, 6, 20, 10, 12, 11, 22, 26, 37, 8, 11, 72, 22, 28, 29, 7, 15, 13, 20, 11, 12, 10, 27, 14, 18, 14, 14, 9, 22, 14, 18, 25, 32, 11, 20, 34, 12, 8, 13, 11, 33, 7, 9, 18, 48, 16, 28, 21, 26, 14, 19, 12, 14, 18, 7, 11, 6, 19, 23, 24, 24, 24, 10, 19, 15, 19, 50, 20, 19, 30, 7, 11, 17, 7, 10, 6, 16, 32, 13, 17, 9, 10, 28, 8, 16, 9, 18, 23, 34, 8, 17, 12, 29, 14, 34, 13, 47, 17, 50, 21, 27, 11, 13, 10, 28, 7, 10, 11, 15, 7, 26, 26, 12, 10, 15, 18, 12, 25, 69, 26, 28, 34, 12, 14, 6, 29, 23, 24, 14, 18, 8, 28, 23, 22, 13, 4, 17, 40, 20, 35, 15, 21, 13, 18, 13, 4, 27, 22, 25, 16, 8, 9, 8, 16, 11, 17, 20, 20, 17, 12, 17, 9, 11, 29, 5, 24, 22, 33, 21, 11, 8, 12, 10, 9, 12, 16, 28, 15, 12, 13, 12, 10, 10, 34, 9, 8, 13, 14, 17, 10, 10, 21, 6, 10, 8, 22, 19, 11, 37, 14, 27, 19, 13, 17, 10, 13, 8, 13, 32, 14, 8, 22, 14, 11, 14, 30, 18, 36, 30, 41, 16, 13, 22, 11, 33, 15, 36, 23, 10, 18, 15, 80, 14, 8, 23, 17, 9, 12, 18, 8, 24, 38, 24, 25, 4, 15, 13, 20, 30, 16, 20, 23, 20, 22, 9, 15, 14, 31, 18, 15, 28, 19, 21, 2, 22, 20, 14, 32, 11, 10, 9, 23, 18, 16, 11, 17, 23, 27, 19, 37, 20, 25, 21, 16, 22, 11, 11, 35, 15, 6, 16, 8, 10, 11, 12, 12, 7, 18, 11, 17, 9, 14, 15, 13, 17, 31, 15, 22, 18, 14, 18, 10, 13, 11, 13, 21, 5, 19, 25, 14, 13, 21, 20, 20, 15, 29, 42, 13, 11, 5, 13, 5, 29, 8, 19, 22, 9, 11, 10, 6, 27, 10, 29, 17, 19, 22, 67, 12, 22, 26, 21, 9, 29, 23, 17, 9, 15, 19, 13, 11, 15, 17, 8, 9, 20, 20, 15, 5, 18, 17, 5, 15, 11, 17, 6, 16, 10, 33, 28, 12, 24, 19, 23, 11, 13, 8, 15, 12, 14, 12, 7, 7, 16, 18, 16, 19, 12, 18, 13, 29, 26, 11, 10, 13, 18, 17, 6, 11, 7, 12, 5, 5, 25, 24, 13, 19, 14, 14, 13, 21, 25, 17, 22, 14, 20, 13, 11, 14, 19, 9, 10, 20, 7, 18, 34, 53, 22, 29, 10, 15, 11, 15, 28, 13, 29, 5, 10, 12, 5, 8, 7, 24, 7, 10, 13, 12, 17, 11, 11, 21, 12, 29, 6, 10, 7, 8, 24, 10, 25, 14, 13, 15, 14, 32, 30, 24, 14, 16, 19, 23, 13, 21, 10, 18, 6, 11, 10, 23, 17, 18, 15, 9, 15, 17, 6, 42, 7, 9, 17, 11, 18, 12, 12, 13, 17, 59, 14, 21, 13, 51, 7, 5, 15, 19, 9, 17, 16, 22, 12, 29, 24, 10, 16, 29, 12, 16, 27, 13, 11, 14, 19, 20, 31, 25, 11, 41, 25, 26, 18, 25, 14, 13, 31, 40, 15, 12, 54, 13, 19, 9, 18, 10, 20, 19, 32, 12, 21, 19, 10, 18, 29, 11, 24, 22, 15, 24, 7, 8, 17, 49, 9, 20, 14, 7, 16, 11, 36, 16, 23, 10, 10, 13, 13, 22, 9, 20, 12, 13, 20, 16, 13, 8, 15, 12, 15, 15, 23, 18, 23, 21, 11, 20, 18, 16, 10, 17, 17, 8, 15, 26, 11, 12, 17, 12, 21, 51, 13, 14, 25, 5, 28, 28, 9, 11, 16, 11, 10, 12, 25, 12, 16, 5, 27, 22, 5, 4, 20, 13, 10, 10, 11, 16, 11, 16, 15, 15, 19, 8, 17, 5, 8, 17, 30, 29, 8, 9, 21, 19, 33, 15, 18, 2, 29, 16, 13, 12, 22, 13, 8, 9, 29, 6, 10, 19, 26, 25, 20, 20, 3, 23, 19, 8, 20, 15, 18, 14, 12, 34, 15, 8, 5, 17, 14, 25, 15, 29, 26, 26, 8, 9, 11, 11, 25, 18, 21, 24, 21, 17, 18, 18, 25, 17, 22, 23, 18, 12, 11, 31, 18, 11, 13, 29, 23, 14, 22, 8, 12, 9, 18, 31, 27, 38, 3, 28, 9, 11, 14, 7, 16, 28, 13, 22, 9, 22, 12, 9, 15, 8, 14, 9, 20, 14, 11, 21, 22, 13, 18, 28, 26, 15, 15, 15, 19, 24, 20, 34, 13, 7, 15, 12, 22, 9, 7, 8, 8, 12, 10, 9, 7, 11, 16, 21, 17, 25, 15, 6, 11, 12, 9, 15, 29, 5, 7, 7, 12, 16, 10, 24, 26, 21, 17, 18]\n"
     ]
    }
   ],
   "source": [
    "movieLengths = list(map(lambda x : len(x[0]), movieValues))\n",
    "print(movieLengths)"
   ]
  },
  {
   "cell_type": "code",
   "execution_count": 11,
   "metadata": {},
   "outputs": [
    {
     "name": "stdout",
     "output_type": "stream",
     "text": [
      "Counter({12: 330, 11: 328, 13: 306, 10: 294, 15: 284, 14: 274, 9: 267, 16: 264, 17: 239, 8: 226, 18: 219, 19: 213, 20: 176, 6: 139, 7: 138, 22: 138, 21: 138, 23: 109, 5: 91, 24: 85, 25: 82, 26: 74, 27: 69, 29: 65, 28: 51, 31: 47, 32: 43, 30: 36, 4: 35, 34: 31, 35: 30, 38: 24, 36: 21, 33: 21, 37: 18, 41: 17, 42: 14, 40: 14, 39: 13, 44: 9, 43: 8, 3: 8, 46: 7, 51: 5, 2: 5, 47: 4, 48: 4, 45: 4, 49: 4, 55: 3, 50: 3, 59: 2, 54: 2, 53: 2, 63: 1, 57: 1, 60: 1, 56: 1, 84: 1, 87: 1, 72: 1, 69: 1, 80: 1, 67: 1})\n"
     ]
    }
   ],
   "source": [
    "from collections import Counter\n",
    "\n",
    "counter = Counter(movieLengths)\n",
    "print(counter)"
   ]
  },
  {
   "cell_type": "code",
   "execution_count": 16,
   "metadata": {},
   "outputs": [
    {
     "name": "stdout",
     "output_type": "stream",
     "text": [
      "[138, 17, 226, 138, 3, 330, 306, 85, 13, 30, 239, 219, 8, 264, 9, 284, 14, 109, 328, 21, 213, 294, 69, 176, 43, 74, 82, 274, 138, 47, 5, 139, 91, 1, 8, 267, 24, 51, 65, 31, 1, 4, 35, 18, 4, 7, 14, 4, 4, 3, 36, 21, 5, 2, 1, 1, 1, 2, 1, 2, 1, 1, 1, 1]\n"
     ]
    }
   ],
   "source": [
    "y = list(counter.values())\n",
    "print(y)"
   ]
  },
  {
   "cell_type": "code",
   "execution_count": 18,
   "metadata": {},
   "outputs": [
    {
     "name": "stdout",
     "output_type": "stream",
     "text": [
      "[7, 41, 8, 22, 55, 12, 13, 24, 39, 35, 17, 18, 43, 16, 44, 15, 42, 23, 11, 36, 19, 10, 27, 20, 32, 26, 25, 14, 21, 31, 51, 6, 5, 63, 3, 9, 38, 28, 29, 34, 57, 47, 4, 37, 48, 46, 40, 45, 49, 50, 30, 33, 2, 59, 60, 56, 84, 54, 87, 53, 72, 69, 80, 67]\n"
     ]
    }
   ],
   "source": [
    "x = list(counter.keys())\n",
    "print(x)"
   ]
  },
  {
   "cell_type": "markdown",
   "metadata": {},
   "source": [
    "### Scatter Plot visualisation"
   ]
  },
  {
   "cell_type": "code",
   "execution_count": 19,
   "metadata": {},
   "outputs": [
    {
     "data": {
      "image/png": "[encoded data removed]",
      "text/plain": [
       "<Figure size 432x288 with 1 Axes>"
      ]
     },
     "metadata": {},
     "output_type": "display_data"
    }
   ],
   "source": [
    "plt.scatter(x,y)\n",
    "\n",
    "plt.xlabel(\"Movie Lengths\")\n",
    "plt.ylabel(\"Frequency\")\n",
    "\n",
    "plt.show()"
   ]
  },
  {
   "cell_type": "markdown",
   "metadata": {},
   "source": [
    "### Histogram Visualisation"
   ]
  },
  {
   "cell_type": "code",
   "execution_count": 22,
   "metadata": {},
   "outputs": [
    {
     "data": {
      "text/plain": [
       "(array([35.,  6.,  5.,  1.,  4.,  1.,  3.,  2.,  4.,  3.]),\n",
       " array([  1. ,  33.9,  66.8,  99.7, 132.6, 165.5, 198.4, 231.3, 264.2,\n",
       "        297.1, 330. ]),\n",
       " <BarContainer object of 10 artists>)"
      ]
     },
     "execution_count": 22,
     "metadata": {},
     "output_type": "execute_result"
    },
    {
     "data": {
      "image/png": "[encoded data removed]",
      "text/plain": [
       "<Figure size 432x288 with 1 Axes>"
      ]
     },
     "metadata": {},
     "output_type": "display_data"
    }
   ],
   "source": [
    "plt.hist(y, label=x)"
   ]
  }
 ],
 "metadata": {
  "interpreter": {
   "hash": "98590ff4fe04c8543246b2a01debd3de3c5ca9b666f43f1fa87d5110c692004c"
  },
  "kernelspec": {
   "display_name": "Python 3.10.2 64-bit",
   "language": "python",
   "name": "python3"
  },
  "language_info": {
   "codemirror_mode": {
    "name": "ipython",
    "version": 3
   },
   "file_extension": ".py",
   "mimetype": "text/x-python",
   "name": "python",
   "nbconvert_exporter": "python",
   "pygments_lexer": "ipython3",
   "version": "3.10.2"
  },
  "orig_nbformat": 4
 },
 "nbformat": 4,
 "nbformat_minor": 2
}
